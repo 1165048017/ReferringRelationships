{
 "cells": [
  {
   "cell_type": "code",
   "execution_count": null,
   "metadata": {},
   "outputs": [],
   "source": [
    "from iterator import PredicateIterator\n",
    "from utils.visualization_utils import get_att_map, objdict, get_dict\n",
    "from PIL import Image\n",
    "\n",
    "import numpy as np\n",
    "import os\n",
    "import json\n",
    "import matplotlib.pyplot as plt\n",
    "%matplotlib inline"
   ]
  },
  {
   "cell_type": "markdown",
   "metadata": {},
   "source": [
    "### VRD"
   ]
  },
  {
   "cell_type": "code",
   "execution_count": null,
   "metadata": {},
   "outputs": [],
   "source": [
    "annotations_test = json.load(open(\"/data/chami/ReferringRelationships/data/VRD/annotations_test.json\"))\n",
    "test_data_dir = \"/data/ranjaykrishna/ReferringRelationships/data/predicate-vrd/test/\"\n",
    "img_dir = \"/data/chami/VRD/sg_dataset/sg_test_images/\"\n",
    "vocab_dir = \"/data/chami/ReferringRelationships/data/VRD\"\n",
    "predicate_dict, obj_subj_dict = get_dict(vocab_dir)"
   ]
  },
  {
   "cell_type": "markdown",
   "metadata": {},
   "source": [
    "### Clevr"
   ]
  },
  {
   "cell_type": "code",
   "execution_count": null,
   "metadata": {},
   "outputs": [],
   "source": [
    "annotations_test = json.load(open(\"/data/chami/ReferringRelationships/data/VRD/annotations_test.json\"))\n",
    "test_data_dir = \"/data/ranjaykrishna/ReferringRelationships/data/dataset-clevr-small/test/\"\n",
    "img_dir = \"/data/ranjaykrishna/clevr/images/val/\"\n",
    "vocab_dir = \"/data/chami/ReferringRelationships/data/Clevr\"\n",
    "predicate_dict, obj_subj_dict = get_dict(vocab_dir)"
   ]
  },
  {
   "cell_type": "markdown",
   "metadata": {},
   "source": [
    "### Visual Genome"
   ]
  },
  {
   "cell_type": "code",
   "execution_count": null,
   "metadata": {},
   "outputs": [],
   "source": [
    "annotations_test = json.load(open(\"/data/chami/ReferringRelationships/data/VisualGenome/annotations_test.json\"))\n",
    "test_data_dir = \"/data/chami/VisualGenome/10_12_2017/test\"\n",
    "img_dir = \"/data/chami/VisualGenome/images\"\n",
    "vocab_dir = \"/data/chami/ReferringRelationships/data/VisualGenome\"\n",
    "predicate_dict, obj_subj_dict = get_dict(vocab_dir)"
   ]
  },
  {
   "cell_type": "code",
   "execution_count": null,
   "metadata": {},
   "outputs": [],
   "source": [
    "params = objdict({})"
   ]
  },
  {
   "cell_type": "code",
   "execution_count": null,
   "metadata": {},
   "outputs": [],
   "source": [
    "params.data_dir = test_data_dir\n",
    "params.input_dim = 224\n",
    "params.use_subject = 1\n",
    "params.use_predicate = 1\n",
    "params.use_object = 1\n",
    "params.batch_size = 128batch_index\n",
    "params.shuffle = True\n",
    "params.seed = 0"
   ]
  },
  {
   "cell_type": "code",
   "execution_count": null,
   "metadata": {},
   "outputs": [],
   "source": [
    "test_generator = PredicateIterator(test_data_dir, params)"
   ]
  },
  {
   "cell_type": "code",
   "execution_count": null,
   "metadata": {},
   "outputs": [],
   "source": [
    "####################\n",
    "relationship_index = 100\n",
    "batch_index = 0\n",
    "####################\n",
    "x, y = test_generator.__getitem__(relationship_index)\n",
    "im = (x[0][batch_index].reshape(224, 224, 3)+123).astype(np.uint8)\n",
    "plt.figure(figsize=(10, 15))\n",
    "plt.subplot('131')\n",
    "plt.imshow(im)\n",
    "plt.subplot('132')\n",
    "plt.imshow(y[0][batch_index].reshape(224,224))\n",
    "plt.subplot('133')\n",
    "plt.imshow(y[1][batch_index].reshape(224,224))\n",
    "relationship = [obj_subj_dict[int(x[1][batch_index])],\n",
    "               predicate_dict[int(x[2][batch_index])],\n",
    "               obj_subj_dict[int(x[3][batch_index])]]\n",
    "att_map = get_att_map(Image.fromarray(im), y[0][batch_index].reshape(224,224), y[1][batch_index].reshape(224,224), params.input_dim, relationship)\n",
    "plt.figure(figsize=(15, 15))\n",
    "plt.imshow(att_map)"
   ]
  },
  {
   "cell_type": "code",
   "execution_count": null,
   "metadata": {},
   "outputs": [],
   "source": []
  }
 ],
 "metadata": {
  "kernelspec": {
   "display_name": "Python 3",
   "language": "python",
   "name": "python3"
  },
  "language_info": {
   "codemirror_mode": {
    "name": "ipython",
    "version": 3
   },
   "file_extension": ".py",
   "mimetype": "text/x-python",
   "name": "python",
   "nbconvert_exporter": "python",
   "pygments_lexer": "ipython3"
  }
 },
 "nbformat": 4,
 "nbformat_minor": 2
}
