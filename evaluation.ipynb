{
 "cells": [
  {
   "cell_type": "code",
   "execution_count": 1,
   "metadata": {},
   "outputs": [
    {
     "name": "stderr",
     "output_type": "stream",
     "text": [
      "Using TensorFlow backend.\n"
     ]
    }
   ],
   "source": [
    "from iterator import SmartIterator\n",
    "from utils.visualization_utils import get_att_map, objdict, get_dict\n",
    "from models import ReferringRelationshipsModel\n",
    "from utils.eval_utils import iou_bbox\n",
    "\n",
    "from sklearn.metrics import roc_auc_score\n",
    "from keras import backend as K\n",
    "import numpy as np\n",
    "import os\n",
    "from PIL import Image\n",
    "import json\n",
    "import h5py\n",
    "import seaborn as sns\n",
    "import matplotlib.pyplot as plt\n",
    "from sklearn.metrics import roc_auc_score\n",
    "%matplotlib inline\n",
    "%load_ext autoreload\n",
    "%autoreload 2"
   ]
  },
  {
   "cell_type": "code",
   "execution_count": 2,
   "metadata": {},
   "outputs": [],
   "source": [
    "########### METRICS #########################################\n",
    "\n",
    "def sim_metric_np(y_true, y_pred, eps=10e-8):\n",
    "    y_true = (y_true.T/(eps + y_true.sum(axis=1).T)).T\n",
    "    y_pred = (y_pred.T/(eps + y_pred.sum(axis=1).T)).T\n",
    "    mini = ((y_true*(y_true<y_pred)) + (y_pred*(y_pred<y_true))).sum(axis=1)\n",
    "    return list(mini)\n",
    "\n",
    "def iou_np(y_true, y_pred, thresh=0.5, eps=10e-8):\n",
    "    y_pred = y_pred > thresh\n",
    "    intersection = (y_pred * y_true).sum(axis=1)\n",
    "    union = eps + ((y_pred + y_true)>0).sum(axis=1)\n",
    "    return list(intersection/union)\n",
    "\n",
    "def recall_np(y_true, y_pred, thresh=0.5, eps=10e-8):\n",
    "    y_pred = y_pred > thresh\n",
    "    tp = (y_pred * y_true).sum(axis=1)\n",
    "    fn = (1*((y_true - y_pred)>0)).sum(axis=1)\n",
    "    recall = tp/(tp+fn+eps)\n",
    "    return list(recall)\n",
    "\n",
    "def precision_np(y_true, y_pred, thresh=0.5, eps=10e-8):\n",
    "    y_pred = y_pred > thresh\n",
    "    tp = (y_pred * y_true).sum(axis=1)\n",
    "    p = y_pred.sum(axis=1)\n",
    "    prec = tp/(p+eps)\n",
    "    return list(prec)\n",
    "\n",
    "def kl_metric_np(y_true, y_pred, eps=10e-8):\n",
    "    y_true = (y_true.T/(eps + y_true.sum(axis=1).T)).T\n",
    "    y_pred = (y_pred.T/(eps + y_pred.sum(axis=1).T)).T\n",
    "    x = np.log(eps+(y_true/(eps+y_pred)))\n",
    "    return list((x*y_true).sum(axis=1))\n",
    "\n",
    "def cc_metric_np(y_true, y_pred, eps=10e-8):\n",
    "    sigma_true = y_true.var(axis=1)\n",
    "    sigma_pred = y_pred.var(axis=1)\n",
    "    cov = ((y_true-y_true.mean(axis=1, keepdims=True)) * (y_pred - y_pred.mean(axis=1, keepdims=True))).mean(axis=1)\n",
    "    return list(cov/np.sqrt((sigma_true*sigma_true)+eps))\n",
    "\n",
    "def iou_bbox_np(y_true, y_pred, thresh=0.5, eps=10e-8):\n",
    "    gt_bbox = get_bbox_from_heatmap(y_true, thresh)\n",
    "    pred_bbox = get_bbox_from_heatmap(y_pred, thresh)\n",
    "    return list(iou(gt_bbox, pred_bbox))\n",
    "\n",
    "def roc_auc(y_true, y_pred):\n",
    "    scores = []\n",
    "    for i in range(y_true.shape[0]):\n",
    "        if y_true[i].sum()>0:\n",
    "            scores += [roc_auc_score(y_true[i], y_pred[i], average='micro')]\n",
    "    return scores\n",
    "\n",
    "def pixel_acc(y_true, y_pred, thresh=0.5):\n",
    "    y_pred = y_pred > thresh\n",
    "    acc = (y_pred == y_true).mean(axis=1)\n",
    "    return list(acc)\n",
    "\n",
    "########### HELPERS #########################################\n",
    "\n",
    "def get_bbox_from_heatmap(heatmap, threshold, input_dim=224):\n",
    "    heatmap = heatmap.reshape((-1, input_dim, input_dim)) \n",
    "    heatmap[heatmap < threshold] = 0\n",
    "    horiz = 1. * (heatmap.sum(axis=2, keepdims=True)>0)\n",
    "    horiz = horiz.repeat(input_dim, axis=2)\n",
    "    vert = 1. * (heatmap.sum(axis=1, keepdims=True)>0)\n",
    "    vert = vert.repeat(input_dim, axis=1)\n",
    "    mask = horiz * vert\n",
    "    return mask\n",
    "\n",
    "def iou(y_true, y_pred, eps=10e-8):\n",
    "    intersection = (y_pred * y_true).sum(axis=1)\n",
    "    union = eps + ((y_pred + y_true)>0).sum(axis=1)\n",
    "    return intersection/union"
   ]
  },
  {
   "cell_type": "code",
   "execution_count": 3,
   "metadata": {},
   "outputs": [],
   "source": [
    "def load_model(model_checkpoint):\n",
    "    params = objdict(json.load(open(os.path.join(os.path.dirname(model_checkpoint), \"args.json\"), \"r\")))\n",
    "    params.finetune_cnn = True\n",
    "    model_weights = h5py.File(model_checkpoint)\n",
    "    relationships_model = ReferringRelationshipsModel(params)\n",
    "    model = relationships_model.build_model()\n",
    "    model.load_weights(model_checkpoint)\n",
    "    return model, params\n",
    "    \n",
    "\n",
    "def evaluate_model(model, params, test_data_dir, batch_size, metrics=[iou_np, recall_np, precision_np, kl_metric_np, cc_metric_np, sim_metric_np, pixel_acc]):\n",
    "    params.batch_size = batch_size\n",
    "    params.shuffle = False\n",
    "    test_generator = SmartIterator(test_data_dir, params)\n",
    "    results = {}\n",
    "    for metric in metrics:\n",
    "        results[metric.__name__+'_s'] = []\n",
    "        results[metric.__name__+'_o'] = []\n",
    "    for i in range(len(test_generator)):\n",
    "        if i%10 == 0:\n",
    "            print(\"{}/{}\".format(i, len(test_generator)))\n",
    "        batch_in, batch_out = test_generator[i]\n",
    "        preds = model.predict(batch_in)\n",
    "        for metric in metrics:\n",
    "            results[metric.__name__+'_s'] += metric(batch_out[0], preds[0])\n",
    "            results[metric.__name__+'_o'] += metric(batch_out[1], preds[1])\n",
    "    final= \"\"\n",
    "    for metric in metrics:\n",
    "        mean_s = np.mean(results[metric.__name__+'_s'])\n",
    "        mean_o = np.mean(results[metric.__name__+'_o'])\n",
    "        print(\"{} : {:.4f} & {:.4f} \".format(metric.__name__, mean_s, mean_o))\n",
    "        final += \" {:.4f} & {:.4f} \".format(mean_s, mean_o)\n",
    "    print(final)\n",
    "    return results"
   ]
  },
  {
   "cell_type": "markdown",
   "metadata": {},
   "source": [
    "# VRD "
   ]
  },
  {
   "cell_type": "code",
   "execution_count": null,
   "metadata": {},
   "outputs": [],
   "source": [
    "test_data_dir = \"/data/ranjaykrishna/ReferringRelationships/data/dataset-vrd-14/test\"\n",
    "batch_size = 49 # or 140 or 49 or 245,"
   ]
  },
  {
   "cell_type": "markdown",
   "metadata": {},
   "source": [
    "## Baseline no predicate"
   ]
  },
  {
   "cell_type": "code",
   "execution_count": null,
   "metadata": {},
   "outputs": [],
   "source": [
    "model_checkpoint = \"/data/chami/ReferringRelationships/models/final_models/VisualGenome/baseline_no_predicate/model08-1.96.h5\"\n",
    "model, params = load_model(model_checkpoint)\n",
    "results = evaluate_model(model, params, test_data_dir, batch_size)"
   ]
  },
  {
   "cell_type": "markdown",
   "metadata": {},
   "source": [
    "## Baseline + predicate"
   ]
  },
  {
   "cell_type": "code",
   "execution_count": null,
   "metadata": {},
   "outputs": [],
   "source": [
    "model_checkpoint = \"/data/chami/ReferringRelationships/models/VRD/11_13_2017/baseline/1/model08-3.92.h5\"\n",
    "model, params = load_model(model_checkpoint)\n",
    "results = evaluate_model(model, params, test_data_dir, batch_size)"
   ]
  },
  {
   "cell_type": "markdown",
   "metadata": {},
   "source": [
    "## SSAN (iter=1)"
   ]
  },
  {
   "cell_type": "code",
   "execution_count": null,
   "metadata": {},
   "outputs": [],
   "source": [
    "model_checkpoint = \"/data/chami/ReferringRelationships/models/final_models/VRD/sym_ssn_1/model09-2.77.h5\"\n",
    "model, params = load_model(model_checkpoint)\n",
    "results = evaluate_model(model, params, test_data_dir, batch_size)"
   ]
  },
  {
   "cell_type": "markdown",
   "metadata": {},
   "source": [
    "## SSAN (iter=2)"
   ]
  },
  {
   "cell_type": "code",
   "execution_count": null,
   "metadata": {},
   "outputs": [],
   "source": [
    "model_checkpoint = \"/data/chami/ReferringRelationships/models/final_models/VRD/sym_ssn_2/model07-2.49.h5\"\n",
    "model, params = load_model(model_checkpoint)\n",
    "results = evaluate_model(model, params, test_data_dir, batch_size)"
   ]
  },
  {
   "cell_type": "markdown",
   "metadata": {},
   "source": [
    "## SSAN (iter=3)"
   ]
  },
  {
   "cell_type": "code",
   "execution_count": null,
   "metadata": {},
   "outputs": [],
   "source": [
    "model_checkpoint = \"/data/chami/ReferringRelationships/models/final_models/VRD/sym_ssn_3/model07-2.30.h5\"\n",
    "model, params = load_model(model_checkpoint)\n",
    "results = evaluate_model(model, params, test_data_dir, batch_size)"
   ]
  },
  {
   "cell_type": "markdown",
   "metadata": {},
   "source": [
    "# Visual Genome "
   ]
  },
  {
   "cell_type": "code",
   "execution_count": null,
   "metadata": {},
   "outputs": [],
   "source": [
    "test_data_dir = \"/data/ranjaykrishna/ReferringRelationships/data/dataset-visualgenome-14/test\"\n",
    "batch_size = 245 # or 140 or 49, 6863 samples"
   ]
  },
  {
   "cell_type": "markdown",
   "metadata": {},
   "source": [
    "## Baseline"
   ]
  },
  {
   "cell_type": "code",
   "execution_count": null,
   "metadata": {},
   "outputs": [],
   "source": [
    "model_checkpoint = \"/data/chami/ReferringRelationships/models/final_models/VisualGenome/\"\n",
    "model, params = load_model(model_checkpoint)\n",
    "results = evaluate_model(model, params, test_data_dir, batch_size)"
   ]
  },
  {
   "cell_type": "markdown",
   "metadata": {},
   "source": [
    "## Baseline + Predicate"
   ]
  },
  {
   "cell_type": "code",
   "execution_count": null,
   "metadata": {},
   "outputs": [],
   "source": [
    "model_checkpoint = \"/data/chami/ReferringRelationships/models/final_models/VisualGenome/baseline/model07-1.77.h5\"\n",
    "model, params = load_model(model_checkpoint)\n",
    "results = evaluate_model(model, params)"
   ]
  },
  {
   "cell_type": "code",
   "execution_count": null,
   "metadata": {},
   "outputs": [],
   "source": [
    "model_checkpoint = \"/data/chami/ReferringRelationships/models/final_models/VRD/sym_ssn_3/model07-2.30.h5\"\n",
    "model, params = load_model(model_checkpoint)\n",
    "results = evaluate_model(model, params)"
   ]
  },
  {
   "cell_type": "markdown",
   "metadata": {},
   "source": [
    "## SSAN (iter=1)"
   ]
  },
  {
   "cell_type": "code",
   "execution_count": null,
   "metadata": {},
   "outputs": [],
   "source": [
    "model_checkpoint = \"/data/chami/ReferringRelationships/models/final_models/VRD/sym_ssn_3/model07-2.30.h5\"\n",
    "model, params = load_model(model_checkpoint)\n",
    "results = evaluate_model(model, params)"
   ]
  },
  {
   "cell_type": "markdown",
   "metadata": {},
   "source": [
    "## SSAN (iter=2)"
   ]
  },
  {
   "cell_type": "code",
   "execution_count": null,
   "metadata": {},
   "outputs": [],
   "source": [
    "model_checkpoint = \"/data/chami/ReferringRelationships/models/final_models/VRD/sym_ssn_3/model07-2.30.h5\"\n",
    "model, params = load_model(model_checkpoint)\n",
    "results = evaluate_model(model, params)"
   ]
  },
  {
   "cell_type": "markdown",
   "metadata": {},
   "source": [
    "## SSAN (iter=3)"
   ]
  },
  {
   "cell_type": "code",
   "execution_count": null,
   "metadata": {},
   "outputs": [],
   "source": [
    "model_checkpoint = \"/data/chami/ReferringRelationships/models/final_models/VRD/sym_ssn_3/model07-2.30.h5\"\n",
    "model, params = load_model(model_checkpoint)\n",
    "results = evaluate_model(model, params)"
   ]
  },
  {
   "cell_type": "code",
   "execution_count": null,
   "metadata": {},
   "outputs": [],
   "source": [
    "def evaluate_model_per_cat(model, params, metrics=[iou_np, recall_np, precision_np, roc_auc]):\n",
    "    test_data_dir = \"/data/ranjaykrishna/ReferringRelationships/data/dataset-vrd-14/test\"\n",
    "    params.batch_size = 140\n",
    "    categories = json.load(open('data/VRD/objects.json', 'r'))\n",
    "    params.baseline_weights = None\n",
    "    params.shuffle = False\n",
    "    test_generator = SmartIterator(test_data_dir, params)\n",
    "    results = {}\n",
    "    for i in range(len(categories)):\n",
    "        results[i] = {}\n",
    "        for metric in metrics:\n",
    "            results[i][metric.__name__+'_s'] = []\n",
    "            results[i][metric.__name__+'_o'] = []\n",
    "    for i in range(len(test_generator)):\n",
    "        if i%10 == 0:\n",
    "            print(\"{}/{}\".format(i, len(test_generator)))\n",
    "        batch_in, batch_out = test_generator[i]\n",
    "        preds = model.predict(batch_in)\n",
    "        for j in range(len(categories)):\n",
    "            indices = batch_in[1] == j\n",
    "            if indices.sum() > 0:\n",
    "                sub_pred = [preds[0][indices.flatten()], preds[1][indices.flatten()]]\n",
    "                sub_batch_out = [batch_out[0][indices.flatten()], batch_out[1][indices.flatten()]]\n",
    "                for metric in metrics:\n",
    "                    results[j][metric.__name__+'_s'] += metric(sub_batch_out[0], sub_pred[0])\n",
    "            indices = batch_in[2] == j\n",
    "            if indices.sum() > 0:\n",
    "                sub_pred = [preds[0][indices.flatten()], preds[1][indices.flatten()]]\n",
    "                sub_batch_out = [batch_out[0][indices.flatten()], batch_out[1][indices.flatten()]]\n",
    "                for metric in metrics:\n",
    "                    results[j][metric.__name__+'_o'] += metric(sub_batch_out[1], sub_pred[1])\n",
    "    for i in results.keys():\n",
    "        for j in results[i].keys():\n",
    "            results[i][j] = np.mean(results[i][j])\n",
    "    return results"
   ]
  },
  {
   "cell_type": "code",
   "execution_count": 41,
   "metadata": {
    "scrolled": false
   },
   "outputs": [
    {
     "name": "stdout",
     "output_type": "stream",
     "text": [
      "person : 0.4030039331747339\n",
      "sky : 0.7577298668038853\n",
      "building : 0.35422649488999863\n",
      "truck : 0.44848570756722156\n",
      "bus : 0.6002324531158708\n",
      "table : 0.5384657447153096\n",
      "shirt : 0.36555494776433217\n",
      "chair : 0.19361195930565034\n",
      "car : 0.3006610653015122\n",
      "train : 0.5792093499515363\n",
      "glasses : 0.0848575505053826\n",
      "tree : 0.32901688915166893\n",
      "boat : 0.4272424290619858\n",
      "hat : 0.23977399514930275\n",
      "trees : 0.48426308759519016\n",
      "grass : 0.4898674201800822\n",
      "pants : 0.3262602595611962\n",
      "road : 0.6787668413897793\n",
      "motorcycle : 0.49393478696190196\n",
      "jacket : 0.27030647352283343\n",
      "monitor : 0.2734412357583712\n",
      "wheel : 0.21930051749944557\n",
      "umbrella : 0.24975348940235967\n",
      "plate : 0.2127732129559155\n",
      "bike : 0.3992636121450984\n",
      "clock : 0.17541366804053254\n",
      "bag : 0.09964114141402011\n",
      "shoe : 0.0\n",
      "laptop : 0.24779646200088984\n",
      "desk : 0.5630652486581698\n",
      "cabinet : 0.18389945834335464\n",
      "counter : 0.4691172052030223\n",
      "bench : 0.3530079143898183\n",
      "shoes : 0.2338341121332641\n",
      "tower : 0.4551105817342828\n",
      "bottle : 0.04039393659476857\n",
      "helmet : 0.10581520339158412\n",
      "stove : 0.3207674219513902\n",
      "lamp : 0.1352096072376732\n",
      "coat : 0.45474221365552897\n",
      "bed : 0.6358534832691597\n",
      "dog : 0.336387193896149\n",
      "mountain : 0.4226255001591749\n",
      "horse : 0.5041360707094877\n",
      "plane : 0.25703767780014564\n",
      "roof : 0.3555536654459077\n",
      "skateboard : 0.2415661589145499\n",
      "traffic light : 0.0020448498943204897\n",
      "bush : 0.29647981941418644\n",
      "phone : 0.0\n",
      "airplane : 0.5965300323794044\n",
      "sofa : 0.4719283669129852\n",
      "cup : 0.11878993043192612\n",
      "sink : 0.09876001150518686\n",
      "shelf : 0.10413450569581957\n",
      "box : 0.0540501964456839\n",
      "van : 0.22757801064757377\n",
      "hand : 0.05798706922671567\n",
      "shorts : 0.15247207730995693\n",
      "post : 0.017066802487597777\n",
      "jeans : 0.21137373445270383\n",
      "cat : 0.24441444775101148\n",
      "sunglasses : 0.03867550677985002\n",
      "bowl : 0.07557198734361882\n",
      "computer : 0.3509540514185272\n",
      "pillow : 0.10109889463442007\n",
      "pizza : 0.3726702293854929\n",
      "basket : 0.05932971012343126\n",
      "elephant : 0.14386636162629568\n",
      "kite : 0.09802544578631095\n",
      "sand : 0.9789719286101419\n",
      "keyboard : 0.07637770629860804\n",
      "plant : 0.07865276340238431\n",
      "can : 0.0\n",
      "vase : 0.09006097558303656\n",
      "refrigerator : 0.08748451478904108\n",
      "cart : 0.5683005339304369\n",
      "skis : 0.36430968783995005\n",
      "pot : 0.03439803438958279\n",
      "surfboard : 0.4290744854659782\n",
      "paper : 0.037053841321457906\n",
      "mouse : 0.0030641948827710725\n",
      "trash can : 0.008071933557365334\n",
      "cone : 0.11764705876871928\n",
      "camera : 0.0\n",
      "ball : 0.0\n",
      "bear : 0.4369175106472952\n",
      "giraffe : 0.4869611706632489\n",
      "tie : 0.08543064914504261\n",
      "luggage : 0.5455810574378771\n",
      "faucet : 0.00593065693403601\n",
      "hydrant : 0.3581078765387963\n",
      "snowboard : 0.44702340692123693\n",
      "oven : 0.5457610135315989\n",
      "engine : 0.2435688482014574\n",
      "watch : 0.0\n",
      "face : 0.036324786323233986\n",
      "street : 0.7117502868860434\n",
      "ramp : 0.3061694789180006\n",
      "suitcase : 0.1210113280785039\n"
     ]
    }
   ],
   "source": [
    "for cat in results_cat:\n",
    "    \"Subject IOU per cat\"\n",
    "    print(\"{} : {}\".format(categories[cat], results_cat[cat][\"precision_np_s\"]))"
   ]
  },
  {
   "cell_type": "code",
   "execution_count": 42,
   "metadata": {},
   "outputs": [
    {
     "name": "stdout",
     "output_type": "stream",
     "text": [
      "person : 0.42549464519737323\n",
      "sky : 0.7576199977534511\n",
      "building : 0.4791512967874501\n",
      "truck : 0.5900891828513237\n",
      "bus : 0.6750594425520177\n",
      "table : 0.6374800997995338\n",
      "shirt : 0.31619510630089415\n",
      "chair : 0.2807650802019766\n",
      "car : 0.33217980735774727\n",
      "train : 0.606935392540404\n",
      "glasses : 0.06722463038230654\n",
      "tree : 0.31646309957915625\n",
      "boat : 0.6329955158154751\n",
      "hat : 0.15666079006327313\n",
      "trees : 0.6207932015313932\n",
      "grass : 0.5365994685776854\n",
      "pants : 0.2607909510812592\n",
      "road : 0.6827145630448881\n",
      "motorcycle : 0.5145059757017056\n",
      "jacket : 0.3064371794198704\n",
      "monitor : 0.2961802047300407\n",
      "wheel : 0.2001799411826504\n",
      "umbrella : 0.26297889096672283\n",
      "plate : 0.3313713237746784\n",
      "bike : 0.36661836083395977\n",
      "clock : 0.22740504562378608\n",
      "bag : 0.06247299750107124\n",
      "shoe : 0.0\n",
      "laptop : 0.24476536215173264\n",
      "desk : 0.6018082640833173\n",
      "cabinet : 0.20792124757717148\n",
      "counter : 0.4393022982381046\n",
      "bench : 0.5908532493614981\n",
      "shoes : 0.21218634624663915\n",
      "tower : 0.5233485074753692\n",
      "bottle : 0.042342950864045575\n",
      "helmet : 0.10570465468494601\n",
      "stove : 0.3006085273439249\n",
      "lamp : 0.13915851160823456\n",
      "coat : 0.2734195473622095\n",
      "bed : 0.6602210358490294\n",
      "dog : 0.3584047559493055\n",
      "mountain : 0.539341401860678\n",
      "horse : 0.5030597546415951\n",
      "plane : 0.6084705116192362\n",
      "roof : 0.3257862737836388\n",
      "skateboard : 0.2510484281856314\n",
      "traffic light : 0.05555555554239073\n",
      "bush : 0.27769752730084474\n",
      "phone : 0.008370266479447388\n",
      "airplane : 0.8053895099793581\n",
      "sofa : 0.5589946440430018\n",
      "cup : 0.03866669192634817\n",
      "sink : 0.07895550759940599\n",
      "shelf : 0.13614818753115476\n",
      "box : 0.081836391784672\n",
      "van : 0.3516087892567006\n",
      "hand : 0.04002851003005207\n",
      "shorts : 0.16465662399146155\n",
      "post : 0.0165178605731743\n",
      "jeans : 0.27811300972221403\n",
      "cat : 0.4261938525434224\n",
      "sunglasses : 0.013411390358825163\n",
      "bowl : 0.0027095543771135516\n",
      "computer : 0.264426351312931\n",
      "pillow : 0.14648917735291464\n",
      "pizza : 0.3802550420533476\n",
      "basket : 0.06006944442775848\n",
      "elephant : 0.47219670965577426\n",
      "kite : 0.11051867965564534\n",
      "sand : 0.776724439502054\n",
      "keyboard : 0.07270260090316756\n",
      "plant : 0.09525435879366624\n",
      "can : 0.0\n",
      "vase : 0.19773299741156153\n",
      "refrigerator : 0.22178007666396674\n",
      "cart : 0.6400260172543367\n",
      "skis : 0.36949789896803864\n",
      "pot : 0.0\n",
      "surfboard : 0.23838391629176017\n",
      "paper : 0.02663875668058495\n",
      "mouse : 0.002722189523228942\n",
      "trash can : 0.0\n",
      "cone : 0.12499999989130435\n",
      "camera : 0.0\n",
      "ball : 0.0\n",
      "bear : 0.4048057302764629\n",
      "giraffe : 0.5369617971311316\n",
      "tie : 0.013063674023211382\n",
      "luggage : 0.5970918308689562\n",
      "faucet : 0.010350318470866683\n",
      "hydrant : 0.23204871838243238\n",
      "snowboard : 0.35888798238636166\n",
      "oven : 0.3999336399429974\n",
      "engine : 0.183398856174139\n",
      "watch : 0.0\n",
      "face : 0.12124424128573366\n",
      "street : 0.7469237539517914\n",
      "ramp : 0.5955068615357947\n",
      "suitcase : 0.19026209746872727\n"
     ]
    }
   ],
   "source": [
    "for cat in results_cat:\n",
    "    \"Object IOU per cat\"\n",
    "    print(\"{} : {}\".format(categories[cat], results_cat[cat][\"precision_np_o\"]))"
   ]
  },
  {
   "cell_type": "code",
   "execution_count": null,
   "metadata": {},
   "outputs": [],
   "source": [
    "for cat in results_cat:\n",
    "    \"Subject IOU per cat\"\n",
    "    print(\"{} : {}\".format(categories[cat], results_cat[cat][\"precision_np_s\"]))"
   ]
  },
  {
   "cell_type": "code",
   "execution_count": null,
   "metadata": {},
   "outputs": [],
   "source": [
    "for cat in results_cat:\n",
    "    \"Object IOU per cat\"\n",
    "    print(\"{} : {}\".format(categories[cat], results_cat[cat][\"precision_np_o\"]))"
   ]
  },
  {
   "cell_type": "code",
   "execution_count": null,
   "metadata": {},
   "outputs": [],
   "source": [
    "model_checkpoint = \"/data/chami/ReferringRelationships/models/VRD/11_07_2017/sym_ssn/1/model18-1.66.h5\"\n",
    "#model_checkpoint = \"/data/chami/ReferringRelationships/models/VRD/11_07_2017/sym_ssn/3/model21-0.96.h5\"\n",
    "#model_checkpoint = \"/data/chami/ReferringRelationships/models/VRD/11_07_2017/sym_ssn/2/model17-1.37.h5\"\n",
    "model, params = load_model(model_checkpoint)\n",
    "results = evaluate_model(model, params)"
   ]
  },
  {
   "cell_type": "code",
   "execution_count": null,
   "metadata": {},
   "outputs": [],
   "source": [
    "model_checkpoint = \"/data/chami/ReferringRelationships/models/VRD/11_07_2017/ssn/5/model19-2.03.h5\"\n",
    "model, params = load_model(model_checkpoint)\n",
    "preds = evaluate_model(model, params)"
   ]
  },
  {
   "cell_type": "code",
   "execution_count": null,
   "metadata": {},
   "outputs": [],
   "source": [
    "model_checkpoint = \"/data/chami/ReferringRelationships/models/VRD/11_07_2017/baseline/7/model28-1.51.h5\"\n",
    "model, params = load_model(model_checkpoint)\n",
    "preds = evaluate_model(model, params)"
   ]
  },
  {
   "cell_type": "code",
   "execution_count": null,
   "metadata": {},
   "outputs": [],
   "source": [
    "model_checkpoint = \"/data/chami/ReferringRelationships/models/VRD/11_07_2017/baseline_no_predicate/8/model24-1.38.h5\"\n",
    "model, params = load_model(model_checkpoint)\n",
    "preds = evaluate_model(model, params)"
   ]
  },
  {
   "cell_type": "markdown",
   "metadata": {},
   "source": [
    "### VRD Models"
   ]
  },
  {
   "cell_type": "code",
   "execution_count": null,
   "metadata": {},
   "outputs": [],
   "source": [
    "# models selected with val iou\n",
    "best_baseline_checkpoint = \"/data/chami/ReferringRelationships/models/VRD/10_27_2017/baseline/8/model12-0.51.h5\"\n",
    "best_baseline_no_pred_checkpoint = \"/data/chami/ReferringRelationships/models/VRD/10_27_2017/baseline_no_predicate/22/model36-0.53.h5\"\n",
    "best_ssn_checkpoint = \"/data/chami/ReferringRelationships/models/VRD/10_27_2017/ssn/3/model35-0.54.h5\"\n",
    "best_sym_ssn_checkpoint = \"/data/chami/ReferringRelationships/models/VRD/10_27_2017/sym_ssn/21/model11-0.52.h5\"\n",
    "best_sym_ssn_internal_loss_checkpoint = \"/data/chami/ReferringRelationships/models/VRD/10_31_2017/1/model18-1.06.h5\"\n",
    "\n",
    "# models selected with val iou bbox\n",
    "#best_baseline_checkpoint = \"/data/chami/ReferringRelationships/models/VRD/10_27_2017/baseline/3/model17-0.50.h5\"\n",
    "#best_baseline_no_pred_checkpoint = '/data/chami/ReferringRelationships/models/VRD/10_27_2017/baseline_no_predicate/3/model25-0.51.h5'\n",
    "#best_ssn_checkpoint = '/data/chami/ReferringRelationships/models/VRD/10_27_2017/ssn/22/model12-0.55.h5'\n",
    "#best_sym_ssn_checkpoint = '/data/chami/ReferringRelationships/models/VRD/10_27_2017/sym_ssn/12/model17-0.54.h5'\n",
    "\n",
    "# models selected with val_loss\n",
    "#best_baseline_checkpoint = \"/data/chami/ReferringRelationships/models/VRD/10_27_2017/baseline/2/model34-0.49.h5\"\n",
    "#best_baseline_no_pred_checkpoint = '/data/chami/ReferringRelationships/models/VRD/10_27_2017/baseline_no_predicate/3/model31-0.50.h5'\n",
    "#best_ssn_checkpoint = '/data/chami/ReferringRelationships/models/VRD/10_27_2017/ssn/19/model47-0.50.h5'\n",
    "#best_sym_ssn_checkpoint = '/data/chami/ReferringRelationships/models/VRD/10_27_2017/sym_ssn/5/model47-0.50.h5'\n"
   ]
  },
  {
   "cell_type": "markdown",
   "metadata": {},
   "source": [
    "## Test Results "
   ]
  },
  {
   "cell_type": "code",
   "execution_count": 8,
   "metadata": {},
   "outputs": [
    {
     "data": {
      "text/plain": [
       "[1, 2, 47, 73, 94.0, 146.0, 3431.0, 6862.0]"
      ]
     },
     "execution_count": 8,
     "metadata": {},
     "output_type": "execute_result"
    }
   ],
   "source": [
    "import math\n",
    "\n",
    "def divisorGenerator(n):\n",
    "    large_divisors = []\n",
    "    for i in range(1, int(math.sqrt(n) + 1)):\n",
    "        if n % i == 0:\n",
    "            yield i\n",
    "            if i*i != n:\n",
    "                large_divisors.append(n / i)\n",
    "    for divisor in reversed(large_divisors):\n",
    "        yield divisor\n",
    "        \n",
    "list(divisorGenerator(6862))"
   ]
  },
  {
   "cell_type": "code",
   "execution_count": null,
   "metadata": {},
   "outputs": [],
   "source": []
  }
 ],
 "metadata": {
  "kernelspec": {
   "display_name": "Python 3",
   "language": "python",
   "name": "python3"
  },
  "language_info": {
   "codemirror_mode": {
    "name": "ipython",
    "version": 3
   },
   "file_extension": ".py",
   "mimetype": "text/x-python",
   "name": "python",
   "nbconvert_exporter": "python",
   "pygments_lexer": "ipython3",
   "version": "3.4.3"
  }
 },
 "nbformat": 4,
 "nbformat_minor": 2
}
