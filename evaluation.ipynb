{
 "cells": [
  {
   "cell_type": "code",
   "execution_count": null,
   "metadata": {},
   "outputs": [],
   "source": [
    "from iterator import SmartIterator\n",
    "from utils.visualization_utils import get_att_map, objdict, get_dict\n",
    "from models import ReferringRelationshipsModel\n",
    "from utils.eval_utils import iou_bbox\n",
    "\n",
    "from sklearn.metrics import roc_auc_score\n",
    "from keras import backend as K\n",
    "import numpy as np\n",
    "import os\n",
    "from PIL import Image\n",
    "import json\n",
    "import h5py\n",
    "import seaborn as sns\n",
    "import matplotlib.pyplot as plt\n",
    "\n",
    "%matplotlib inline\n",
    "%load_ext autoreload\n",
    "%autoreload 2"
   ]
  },
  {
   "cell_type": "code",
   "execution_count": null,
   "metadata": {},
   "outputs": [],
   "source": [
    "def sim_metric_np(y_true, y_pred, eps=10e-8):\n",
    "    y_true = (y_true.T/(eps + y_true.sum(axis=1).T)).T\n",
    "    y_pred = (y_pred.T/(eps + y_pred.sum(axis=1).T)).T\n",
    "    mini = ((y_true*(y_true<y_pred)) + (y_pred*(y_pred<y_true))).sum(axis=1)\n",
    "    return mini\n",
    "\n",
    "def iou_np(y_true, y_pred, thresh=0.5, eps=10e-8):\n",
    "    y_pred = y_pred > thresh\n",
    "    intersection = (y_pred * y_true).sum(axis=1)\n",
    "    union = eps + ((y_pred + y_true)>0).sum(axis=1)\n",
    "    return intersection/union\n",
    "\n",
    "def kl_metric_np(y_true, y_pred, eps=10e-8):\n",
    "    y_true = (y_true.T/(eps + y_true.sum(axis=1).T)).T\n",
    "    y_pred = (y_pred.T/(eps + y_pred.sum(axis=1).T)).T\n",
    "    x = np.log(eps+(y_true/(eps+y_pred)))\n",
    "    return (x*y_true).sum(axis=1)\n",
    "\n",
    "def cc_metric(y_true, y_pred, eps=10e-10):\n",
    "    sigma_true = y_true.var(axis=1)\n",
    "    sigma_pred = y_pred.var(axis=1)\n",
    "    cov = (y_true*y_pred-(y_true.mean(axis=1, keepdims=True)*y_pred.mean(axis=1, keepdims=True))).mean(axis=1)\n",
    "    return cov/np.sqrt((sigma_true*sigma_true)+eps)"
   ]
  },
  {
   "cell_type": "code",
   "execution_count": null,
   "metadata": {},
   "outputs": [],
   "source": [
    "def evaluate_model(model_checkpoint):\n",
    "    params = objdict(json.load(open(os.path.join(os.path.dirname(model_checkpoint), \"args.json\"), \"r\")))\n",
    "    test_data_dir = params.test_data_dir\n",
    "    params.batch_size = 64\n",
    "    test_generator = SmartIterator(test_data_dir, params)\n",
    "    model_weights = h5py.File(model_checkpoint)\n",
    "    relationships_model = ReferringRelationshipsModel(params)\n",
    "    model = relationships_model.build_model()\n",
    "    model.load_weights(model_checkpoint)\n",
    "    model_name = os.path.basename(model_checkpoint)\n",
    "    sim_s = []\n",
    "    sim_o = []\n",
    "    iou_s = []\n",
    "    iou_o = []\n",
    "    kl_s = []\n",
    "    kl_o = []\n",
    "    cc_s = []\n",
    "    cc_o = []\n",
    "    for i in range(len(test_generator)):\n",
    "        if i%10 == 0:\n",
    "            print(\"{}/{}\".format(i, len(test_generator)))\n",
    "        batch_in, batch_out = test_generator[i]\n",
    "        preds = model.predict(batch_in)\n",
    "        preds[0] = np.maximum(0, preds[0])\n",
    "        preds[1] = np.maximum(0, preds[1])\n",
    "        sim_s += list(sim_metric_np(batch_out[0], preds[0]))\n",
    "        sim_o += list(sim_metric_np(batch_out[1], preds[1]))\n",
    "        iou_s += list(iou_np(batch_out[0], preds[0]))\n",
    "        iou_o += list(iou_np(batch_out[1], preds[1]))\n",
    "        kl_s += list(kl_metric_np(batch_out[0], preds[0]))\n",
    "        kl_o += list(kl_metric_np(batch_out[1], preds[1]))\n",
    "        cc_s += list(cc_metric(batch_out[0], preds[0]))\n",
    "        cc_o += list(cc_metric(batch_out[1], preds[1]))\n",
    "    print(\"{} | {:.4f} & {:.4f} & {:.4f} & {:.4f} & {:.4f} & {:.4f} & {:.4f} & {:.4f}\".format(\n",
    "        model_name,\n",
    "        np.mean(iou_s), np.mean(iou_o), \n",
    "        np.mean(sim_s), np.mean(sim_o), \n",
    "        np.mean(kl_s), np.mean(kl_o), \n",
    "        np.mean(cc_s), np.mean(cc_o)))\n",
    "    return preds"
   ]
  },
  {
   "cell_type": "code",
   "execution_count": null,
   "metadata": {},
   "outputs": [],
   "source": [
    "model_checkpoint = \"/data/chami/ReferringRelationships/models/VRD/10_27_2017/baseline/8/model12-0.51.h5\"\n",
    "preds = evaluate_model(model_checkpoint)"
   ]
  },
  {
   "cell_type": "code",
   "execution_count": null,
   "metadata": {},
   "outputs": [],
   "source": [
    "model_checkpoint = \"/data/chami/ReferringRelationships/models/VRD/11_02_2017/ssn/10/model37-1.34.h5\"\n",
    "preds = evaluate_model(model_checkpoint)"
   ]
  },
  {
   "cell_type": "code",
   "execution_count": null,
   "metadata": {},
   "outputs": [],
   "source": [
    "model_checkpoint = \"/data/chami/ReferringRelationships/models/VRD/11_02_2017/ssn/8/model18-0.92.h5\"\n",
    "preds = evaluate_model(model_checkpoint)"
   ]
  },
  {
   "cell_type": "code",
   "execution_count": null,
   "metadata": {},
   "outputs": [],
   "source": [
    "model_checkpoint = \"/data/chami/ReferringRelationships/models/VRD/11_02_2017/sym_ssn/2/model19-1.01.h5\"\n",
    "preds = evaluate_model(model_checkpoint)"
   ]
  },
  {
   "cell_type": "code",
   "execution_count": null,
   "metadata": {},
   "outputs": [],
   "source": [
    "model_checkpoint = \"/data/chami/ReferringRelationships/models/VRD/11_02_2017/sym_ssn/2/model21-0.97.h5\"\n",
    "preds = evaluate_model(model_checkpoint)"
   ]
  },
  {
   "cell_type": "markdown",
   "metadata": {},
   "source": [
    "### VRD Models"
   ]
  },
  {
   "cell_type": "code",
   "execution_count": null,
   "metadata": {},
   "outputs": [],
   "source": [
    "# models selected with val iou\n",
    "best_baseline_checkpoint = \"/data/chami/ReferringRelationships/models/VRD/10_27_2017/baseline/8/model12-0.51.h5\"\n",
    "best_baseline_no_pred_checkpoint = \"/data/chami/ReferringRelationships/models/VRD/10_27_2017/baseline_no_predicate/22/model36-0.53.h5\"\n",
    "best_ssn_checkpoint = \"/data/chami/ReferringRelationships/models/VRD/10_27_2017/ssn/3/model35-0.54.h5\"\n",
    "best_sym_ssn_checkpoint = \"/data/chami/ReferringRelationships/models/VRD/10_27_2017/sym_ssn/21/model11-0.52.h5\"\n",
    "best_sym_ssn_internal_loss_checkpoint = \"/data/chami/ReferringRelationships/models/VRD/10_31_2017/1/model18-1.06.h5\"\n",
    "\n",
    "# models selected with val iou bbox\n",
    "#best_baseline_checkpoint = \"/data/chami/ReferringRelationships/models/VRD/10_27_2017/baseline/3/model17-0.50.h5\"\n",
    "#best_baseline_no_pred_checkpoint = '/data/chami/ReferringRelationships/models/VRD/10_27_2017/baseline_no_predicate/3/model25-0.51.h5'\n",
    "#best_ssn_checkpoint = '/data/chami/ReferringRelationships/models/VRD/10_27_2017/ssn/22/model12-0.55.h5'\n",
    "#best_sym_ssn_checkpoint = '/data/chami/ReferringRelationships/models/VRD/10_27_2017/sym_ssn/12/model17-0.54.h5'\n",
    "\n",
    "# models selected with val_loss\n",
    "#best_baseline_checkpoint = \"/data/chami/ReferringRelationships/models/VRD/10_27_2017/baseline/2/model34-0.49.h5\"\n",
    "#best_baseline_no_pred_checkpoint = '/data/chami/ReferringRelationships/models/VRD/10_27_2017/baseline_no_predicate/3/model31-0.50.h5'\n",
    "#best_ssn_checkpoint = '/data/chami/ReferringRelationships/models/VRD/10_27_2017/ssn/19/model47-0.50.h5'\n",
    "#best_sym_ssn_checkpoint = '/data/chami/ReferringRelationships/models/VRD/10_27_2017/sym_ssn/5/model47-0.50.h5'\n"
   ]
  },
  {
   "cell_type": "markdown",
   "metadata": {},
   "source": [
    "### CLEVR Models"
   ]
  },
  {
   "cell_type": "code",
   "execution_count": null,
   "metadata": {},
   "outputs": [],
   "source": [
    "# models selected with val iou\n",
    "best_baseline_checkpoint = \"/data/chami/ClevrModels/baseline/model.h5\"\n",
    "best_baseline_no_pred_checkpoint = \"/data/chami/ClevrModels/baseline_no_predicate/model16-0.05.h5\"\n",
    "best_ssn_checkpoint = \"/data/chami/ClevrModels/ssn/model.h5\"\n",
    "best_sym_ssn_checkpoint = \"/data/chami/ClevrModels/sym_ssn/model.h5\""
   ]
  },
  {
   "cell_type": "code",
   "execution_count": null,
   "metadata": {},
   "outputs": [],
   "source": [
    "model_checkpoint = \"/data/chami/ClevrModels/baseline_no_predicate/model16-0.05.h5\"\n",
    "params = objdict(json.load(open(os.path.join(os.path.dirname(model_checkpoint), \"args.json\"), \"r\")))\n",
    "test_data_dir = params.test_data_dir\n",
    "test_data_dir = '/data/chami/CLEVR/test'\n",
    "params.use_internal_loss = False\n",
    "params.batch_size = 512\n",
    "params.att_activation = 'tanh'\n",
    "params.use_predicate = 0\n",
    "test_generator = SmartIterator(test_data_dir, params)"
   ]
  },
  {
   "cell_type": "markdown",
   "metadata": {},
   "source": [
    "## Test Results "
   ]
  },
  {
   "cell_type": "code",
   "execution_count": null,
   "metadata": {},
   "outputs": [],
   "source": [
    "evaluate_model(best_baseline_checkpoint)"
   ]
  },
  {
   "cell_type": "code",
   "execution_count": null,
   "metadata": {},
   "outputs": [],
   "source": [
    "evaluate_model(best_baseline_no_pred_checkpoint)"
   ]
  },
  {
   "cell_type": "code",
   "execution_count": null,
   "metadata": {},
   "outputs": [],
   "source": [
    "evaluate_model(best_ssn_checkpoint)"
   ]
  },
  {
   "cell_type": "code",
   "execution_count": null,
   "metadata": {},
   "outputs": [],
   "source": [
    "evaluate_model(best_sym_ssn_checkpoint)"
   ]
  },
  {
   "cell_type": "code",
   "execution_count": null,
   "metadata": {},
   "outputs": [],
   "source": [
    "evaluate_model(best_sym_ssn_internal_loss_checkpoint)"
   ]
  },
  {
   "cell_type": "code",
   "execution_count": null,
   "metadata": {},
   "outputs": [],
   "source": [
    "def sim_metric(y_true, y_pred):\n",
    "    y_true = y_true / K.sum(y_true, axis=1)\n",
    "    y_pred = y_pred / K.sum(y_pred, axis=1)\n",
    "    mini_idx = K.cast(K.greater(y_pred, y_true), \"float32\")\n",
    "    mini = y_true*mini_idx + y_pred*(1-mini_idx)\n",
    "    res = K.mean(K.sum(mini, axis=1), axis=0)\n",
    "    return res"
   ]
  },
  {
   "cell_type": "code",
   "execution_count": null,
   "metadata": {},
   "outputs": [],
   "source": [
    "model_checkpoint = \"/data/chami/ReferringRelationships/models/VRD/10_27_2017/baseline_no_predicate/3/model25-0.51.h5\"\n",
    "annotations_test = json.load(open(\"data/VRD/annotations_test.json\"))\n",
    "img_dir = '/data/chami/VRD/sg_dataset/sg_test_images/'\n",
    "vocab_dir = os.path.join('data/VRD')\n",
    "predicate_dict, obj_subj_dict = get_dict(vocab_dir)\n",
    "params = objdict(json.load(open(os.path.join(os.path.dirname(model_checkpoint), \"args.json\"), \"r\")))\n",
    "test_data_dir = params.test_data_dir\n",
    "model_weights = h5py.File(model_checkpoint)\n",
    "relationships_model = ReferringRelationshipsModel(params)\n",
    "model = relationships_model.build_model()\n",
    "model.load_weights(model_checkpoint)"
   ]
  },
  {
   "cell_type": "code",
   "execution_count": null,
   "metadata": {},
   "outputs": [],
   "source": [
    "iou_bbox_metric = lambda gt, pred: iou_bbox(gt, pred, 0.5, params.input_dim)\n",
    "iou_bbox_metric.__name__ = \"iou_bbox\"\n",
    "model.compile(loss=['binary_crossentropy', 'binary_crossentropy'], optimizer='sgd', metrics=[iou_bbox_metric, sim_metric])"
   ]
  },
  {
   "cell_type": "code",
   "execution_count": null,
   "metadata": {},
   "outputs": [],
   "source": [
    "params.batch_size = 1\n",
    "test_generator = SmartIterator(test_data_dir, params)\n",
    "test_steps = len(test_generator)\n",
    "test_steps = 10\n",
    "outputs = model.evaluate_generator(generator=test_generator,\n",
    "                                       steps=test_steps,\n",
    "                                       use_multiprocessing=params.multiprocessing,\n",
    "                                       workers=params.workers)"
   ]
  },
  {
   "cell_type": "code",
   "execution_count": null,
   "metadata": {},
   "outputs": [],
   "source": [
    "def get_bbox(pred, gt, thresh=0.5):\n",
    "    pred = pred.reshape(224, 224)\n",
    "    gt = gt.reshape(224, 224)\n",
    "    pred = pred > thresh\n",
    "    horiz = pred.sum(axis=1, keepdims=True)\n",
    "    horiz = horiz > 0\n",
    "    vert = pred.sum(axis=0, keepdims=True)\n",
    "    vert = vert > 0\n",
    "    mask_horiz = np.repeat(horiz, 224, axis=1)\n",
    "    mask_vert = np.repeat(vert, 224, axis=0)\n",
    "    mask = mask_horiz * mask_vert\n",
    "    intersection = mask*gt\n",
    "    union = (mask+gt)>0\n",
    "    print(\"iou bbox = {}\".format(round(intersection.sum()*1./union.sum(), 2)))\n",
    "    return mask"
   ]
  },
  {
   "cell_type": "code",
   "execution_count": null,
   "metadata": {},
   "outputs": [],
   "source": [
    "nb_examples = 50\n",
    "test_generator.batch_size = 1\n",
    "#k = 36\n",
    "k = np.random.randint(nb_examples)\n",
    "print(k)\n",
    "image, subj, obj = test_generator.__getitem__(k)[0]\n",
    "plt.imshow(123+image[0].astype(np.uint8))\n",
    "gt_subj, gt_obj = test_generator.__getitem__(k)[1]\n",
    "fig, axes = plt.subplots(1, 2, figsize=(15, 5))\n",
    "axes[0].imshow((255*gt_subj[0]).astype(np.uint8).reshape(224, 224))\n",
    "axes[1].imshow((255*gt_obj[0]).astype(np.uint8).reshape(224, 224))\n",
    "print(obj_subj_dict[int(subj[0])])\n",
    "print(obj_subj_dict[int(obj[0])])\n",
    "fig, axes = plt.subplots(1, 2, figsize=(15, 5))\n",
    "out = model.predict_generator(test_generator, steps=nb_examples)\n",
    "axes[0].imshow((255*out[0][k]).astype(np.uint8).reshape(224, 224))\n",
    "axes[1].imshow((255*out[1][k]).astype(np.uint8).reshape(224, 224))\n",
    "fig, axes = plt.subplots(1, 2, figsize=(15, 5))\n",
    "bbox1 = get_bbox(out[0][k], gt_subj[0])\n",
    "print(\"sim_metric subj = {}\".format(sim_metric_np(gt_subj[0], out[0][k])))\n",
    "print(\"KL subj = {}\".format(kl_metric(gt_subj[0], out[0][k])))\n",
    "print(\"auc score subj = {}\".format(auc_metric(gt_subj[0], out[0][k])))\n",
    "bbox2 = get_bbox(out[1][k], gt_obj[0])\n",
    "print(\"sim_metric obj = {}\".format(sim_metric_np(gt_obj[0], out[1][k])))\n",
    "print(\"KL obj = {}\".format(kl_metric(gt_obj[0], out[1][k])))\n",
    "print(\"auc score obj = {}\".format(auc_metric(gt_obj[0], out[1][k])))\n",
    "axes[0].imshow((255*bbox1).astype(np.uint8).reshape(224, 224))\n",
    "axes[1].imshow((255*bbox2).astype(np.uint8).reshape(224, 224))"
   ]
  },
  {
   "cell_type": "code",
   "execution_count": null,
   "metadata": {},
   "outputs": [],
   "source": [
    "evaluate_model('/data/chami/ReferringRelationships/models/VRD/10_27_2017/baseline_no_predicate/3/model25-0.51.h5')"
   ]
  },
  {
   "cell_type": "code",
   "execution_count": null,
   "metadata": {},
   "outputs": [],
   "source": [
    "evaluate_model('/data/chami/ReferringRelationships/models/VRD/10_27_2017/ssn/22/model12-0.55.h5')"
   ]
  },
  {
   "cell_type": "code",
   "execution_count": null,
   "metadata": {},
   "outputs": [],
   "source": [
    "evaluate_model('/data/chami/ReferringRelationships/models/VRD/10_27_2017/sym_ssn/12/model17-0.54.h5')"
   ]
  }
 ],
 "metadata": {
  "kernelspec": {
   "display_name": "Python 3",
   "language": "python",
   "name": "python3"
  },
  "language_info": {
   "codemirror_mode": {
    "name": "ipython",
    "version": 3
   },
   "file_extension": ".py",
   "mimetype": "text/x-python",
   "name": "python",
   "nbconvert_exporter": "python",
   "pygments_lexer": "ipython3",
   "version": "3.4.3"
  }
 },
 "nbformat": 4,
 "nbformat_minor": 2
}
