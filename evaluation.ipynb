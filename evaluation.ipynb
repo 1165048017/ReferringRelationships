{
 "cells": [
  {
   "cell_type": "code",
   "execution_count": null,
   "metadata": {},
   "outputs": [],
   "source": [
    "from iterator import SmartIterator\n",
    "from utils.visualization_utils import get_att_map, objdict, get_dict\n",
    "from models import ReferringRelationshipsModel\n",
    "from utils.eval_utils import iou_bbox\n",
    "\n",
    "from sklearn.metrics import roc_auc_score\n",
    "from keras import backend as K\n",
    "import numpy as np\n",
    "import os\n",
    "from PIL import Image\n",
    "import json\n",
    "import h5py\n",
    "import seaborn as sns\n",
    "import matplotlib.pyplot as plt\n",
    "\n",
    "%matplotlib inline\n",
    "%load_ext autoreload\n",
    "%autoreload 2"
   ]
  },
  {
   "cell_type": "code",
   "execution_count": null,
   "metadata": {},
   "outputs": [],
   "source": [
    "########### METRICS #########################################\n",
    "\n",
    "def sim_metric_np(y_true, y_pred, eps=10e-8):\n",
    "    y_true = (y_true.T/(eps + y_true.sum(axis=1).T)).T\n",
    "    y_pred = (y_pred.T/(eps + y_pred.sum(axis=1).T)).T\n",
    "    mini = ((y_true*(y_true<y_pred)) + (y_pred*(y_pred<y_true))).sum(axis=1)\n",
    "    return list(mini)\n",
    "\n",
    "def iou_np(y_true, y_pred, thresh=0.5, eps=10e-8):\n",
    "    y_pred = y_pred > thresh\n",
    "    intersection = (y_pred * y_true).sum(axis=1)\n",
    "    union = eps + ((y_pred + y_true)>0).sum(axis=1)\n",
    "    return list(intersection/union)\n",
    "\n",
    "def recall_np(y_true, y_pred, thresh=0.5, eps=10e-8):\n",
    "    y_pred = y_pred > thresh\n",
    "    tp = (y_pred * y_true).sum(axis=1)\n",
    "    fn = (1*((y_true - y_pred)>0)).sum(axis=1)\n",
    "    recall = tp/(tp+fn+eps)\n",
    "    return list(recall)\n",
    "\n",
    "def precision_np(y_true, y_pred, thresh=0.5, eps=10e-8):\n",
    "    y_pred = y_pred > thresh\n",
    "    tp = (y_pred * y_true).sum(axis=1)\n",
    "    p = y_pred.sum(axis=1)\n",
    "    prec = tp/(p+eps)\n",
    "    return list(prec)\n",
    "\n",
    "def kl_metric_np(y_true, y_pred, eps=10e-8):\n",
    "    y_true = (y_true.T/(eps + y_true.sum(axis=1).T)).T\n",
    "    y_pred = (y_pred.T/(eps + y_pred.sum(axis=1).T)).T\n",
    "    x = np.log(eps+(y_true/(eps+y_pred)))\n",
    "    return list((x*y_true).sum(axis=1))\n",
    "\n",
    "def cc_metric_np(y_true, y_pred, eps=10e-8):\n",
    "    sigma_true = y_true.var(axis=1)\n",
    "    sigma_pred = y_pred.var(axis=1)\n",
    "    cov = ((y_true-y_true.mean(axis=1, keepdims=True)) * (y_pred - y_pred.mean(axis=1, keepdims=True))).mean(axis=1)\n",
    "    return list(cov/np.sqrt((sigma_true*sigma_true)+eps))\n",
    "\n",
    "def iou_bbox_np(y_true, y_pred, thresh=0.5, eps=10e-8):\n",
    "    gt_bbox = get_bbox_from_heatmap(y_true, thresh)\n",
    "    pred_bbox = get_bbox_from_heatmap(y_pred, thresh)\n",
    "    return list(iou(gt_bbox, pred_bbox))\n",
    "\n",
    "########### HELPERS #########################################\n",
    "\n",
    "def get_bbox_from_heatmap(heatmap, threshold, input_dim=224):\n",
    "    heatmap = heatmap.reshape((-1, input_dim, input_dim)) \n",
    "    heatmap[heatmap < threshold] = 0\n",
    "    horiz = 1. * (heatmap.sum(axis=2, keepdims=True)>0)\n",
    "    horiz = horiz.repeat(input_dim, axis=2)\n",
    "    vert = 1. * (heatmap.sum(axis=1, keepdims=True)>0)\n",
    "    vert = vert.repeat(input_dim, axis=1)\n",
    "    mask = horiz * vert\n",
    "    return mask\n",
    "\n",
    "def iou(y_true, y_pred, eps=10e-8):\n",
    "    intersection = (y_pred * y_true).sum(axis=1)\n",
    "    union = eps + ((y_pred + y_true)>0).sum(axis=1)\n",
    "    return intersection/union"
   ]
  },
  {
   "cell_type": "code",
   "execution_count": null,
   "metadata": {},
   "outputs": [],
   "source": [
    "def load_model(model_checkpoint):\n",
    "    params = objdict(json.load(open(os.path.join(os.path.dirname(model_checkpoint), \"args.json\"), \"r\")))\n",
    "    params.discovery = False\n",
    "    model_weights = h5py.File(model_checkpoint)\n",
    "    relationships_model = ReferringRelationshipsModel(params)\n",
    "    model = relationships_model.build_model()\n",
    "    model.load_weights(model_checkpoint)\n",
    "    return model, params\n",
    "    \n",
    "\n",
    "def evaluate_model(model, params, metrics=[iou_np, recall_np, precision_np]):\n",
    "    test_data_dir = params.test_data_dir\n",
    "    params.batch_size = 490\n",
    "    test_generator = SmartIterator(test_data_dir, params)\n",
    "    results = {}\n",
    "    for metric in metrics:\n",
    "        results[metric.__name__+'_s'] = []\n",
    "        results[metric.__name__+'_o'] = []\n",
    "    for i in range(len(test_generator)):\n",
    "        print(\"{}/{}\".format(i, len(test_generator)))\n",
    "        batch_in, batch_out = test_generator[i]\n",
    "        preds = model.predict(batch_in)\n",
    "        for metric in metrics:\n",
    "            results[metric.__name__+'_s'] += metric(batch_out[0], preds[0])\n",
    "            results[metric.__name__+'_o'] += metric(batch_out[1], preds[1])\n",
    "    for metric in metrics:\n",
    "        print(\"{} : {:.4f} & {:.4f} \".format(metric.__name__, \n",
    "                                            np.mean(results[metric.__name__+'_s']),\n",
    "                                            np.mean(results[metric.__name__+'_o'])))\n",
    "    return results"
   ]
  },
  {
   "cell_type": "code",
   "execution_count": null,
   "metadata": {},
   "outputs": [],
   "source": [
    "model_checkpoint = \"/data/chami/ReferringRelationships/models/VRD/11_07_2017/sym_ssn/1/model18-1.66.h5\"\n",
    "#model_checkpoint = \"/data/chami/ReferringRelationships/models/VRD/11_07_2017/sym_ssn/3/model21-0.96.h5\"\n",
    "#model_checkpoint = \"/data/chami/ReferringRelationships/models/VRD/11_07_2017/sym_ssn/2/model17-1.37.h5\"\n",
    "model, params = load_model(model_checkpoint)\n",
    "results = evaluate_model(model, params)"
   ]
  },
  {
   "cell_type": "code",
   "execution_count": null,
   "metadata": {},
   "outputs": [],
   "source": [
    "model_checkpoint = \"/data/chami/ReferringRelationships/models/VRD/11_07_2017/ssn/5/model19-2.03.h5\"\n",
    "model, params = load_model(model_checkpoint)\n",
    "preds = evaluate_model(model, params)"
   ]
  },
  {
   "cell_type": "code",
   "execution_count": null,
   "metadata": {},
   "outputs": [],
   "source": [
    "model_checkpoint = \"/data/chami/ReferringRelationships/models/VRD/11_07_2017/baseline/7/model28-1.51.h5\"\n",
    "model, params = load_model(model_checkpoint)\n",
    "preds = evaluate_model(model, params)"
   ]
  },
  {
   "cell_type": "code",
   "execution_count": null,
   "metadata": {},
   "outputs": [],
   "source": [
    "model_checkpoint = \"/data/chami/ReferringRelationships/models/VRD/11_07_2017/baseline_no_predicate/8/model24-1.38.h5\"\n",
    "model, params = load_model(model_checkpoint)\n",
    "preds = evaluate_model(model, params)"
   ]
  },
  {
   "cell_type": "markdown",
   "metadata": {},
   "source": [
    "### VRD Models"
   ]
  },
  {
   "cell_type": "code",
   "execution_count": null,
   "metadata": {},
   "outputs": [],
   "source": [
    "# models selected with val iou\n",
    "best_baseline_checkpoint = \"/data/chami/ReferringRelationships/models/VRD/10_27_2017/baseline/8/model12-0.51.h5\"\n",
    "best_baseline_no_pred_checkpoint = \"/data/chami/ReferringRelationships/models/VRD/10_27_2017/baseline_no_predicate/22/model36-0.53.h5\"\n",
    "best_ssn_checkpoint = \"/data/chami/ReferringRelationships/models/VRD/10_27_2017/ssn/3/model35-0.54.h5\"\n",
    "best_sym_ssn_checkpoint = \"/data/chami/ReferringRelationships/models/VRD/10_27_2017/sym_ssn/21/model11-0.52.h5\"\n",
    "best_sym_ssn_internal_loss_checkpoint = \"/data/chami/ReferringRelationships/models/VRD/10_31_2017/1/model18-1.06.h5\"\n",
    "\n",
    "# models selected with val iou bbox\n",
    "#best_baseline_checkpoint = \"/data/chami/ReferringRelationships/models/VRD/10_27_2017/baseline/3/model17-0.50.h5\"\n",
    "#best_baseline_no_pred_checkpoint = '/data/chami/ReferringRelationships/models/VRD/10_27_2017/baseline_no_predicate/3/model25-0.51.h5'\n",
    "#best_ssn_checkpoint = '/data/chami/ReferringRelationships/models/VRD/10_27_2017/ssn/22/model12-0.55.h5'\n",
    "#best_sym_ssn_checkpoint = '/data/chami/ReferringRelationships/models/VRD/10_27_2017/sym_ssn/12/model17-0.54.h5'\n",
    "\n",
    "# models selected with val_loss\n",
    "#best_baseline_checkpoint = \"/data/chami/ReferringRelationships/models/VRD/10_27_2017/baseline/2/model34-0.49.h5\"\n",
    "#best_baseline_no_pred_checkpoint = '/data/chami/ReferringRelationships/models/VRD/10_27_2017/baseline_no_predicate/3/model31-0.50.h5'\n",
    "#best_ssn_checkpoint = '/data/chami/ReferringRelationships/models/VRD/10_27_2017/ssn/19/model47-0.50.h5'\n",
    "#best_sym_ssn_checkpoint = '/data/chami/ReferringRelationships/models/VRD/10_27_2017/sym_ssn/5/model47-0.50.h5'\n"
   ]
  },
  {
   "cell_type": "markdown",
   "metadata": {},
   "source": [
    "## Test Results "
   ]
  },
  {
   "cell_type": "code",
   "execution_count": null,
   "metadata": {},
   "outputs": [],
   "source": [
    "import math\n",
    "\n",
    "def divisorGenerator(n):\n",
    "    large_divisors = []\n",
    "    for i in range(1, int(math.sqrt(n) + 1)):\n",
    "        if n % i == 0:\n",
    "            yield i\n",
    "            if i*i != n:\n",
    "                large_divisors.append(n / i)\n",
    "    for divisor in reversed(large_divisors):\n",
    "        yield divisor\n",
    "        \n",
    "list(divisorGenerator(test_generator.samples-3))"
   ]
  }
 ],
 "metadata": {
  "kernelspec": {
   "display_name": "Python 3",
   "language": "python",
   "name": "python3"
  },
  "language_info": {
   "codemirror_mode": {
    "name": "ipython",
    "version": 3
   },
   "file_extension": ".py",
   "mimetype": "text/x-python",
   "name": "python",
   "nbconvert_exporter": "python",
   "pygments_lexer": "ipython3",
   "version": "3.4.3"
  }
 },
 "nbformat": 4,
 "nbformat_minor": 2
}
