{
 "cells": [
  {
   "cell_type": "code",
   "execution_count": null,
   "metadata": {},
   "outputs": [],
   "source": [
    "import json\n",
    "import numpy as np\n",
    "import math\n",
    "import matplotlib.pyplot as plt\n",
    "import os\n",
    "from utils.visualization_utils import get_dict"
   ]
  },
  {
   "cell_type": "code",
   "execution_count": null,
   "metadata": {},
   "outputs": [],
   "source": [
    "annotations_test = json.load(open(\"data/VRD/annotations_train.json\"))"
   ]
  },
  {
   "cell_type": "code",
   "execution_count": null,
   "metadata": {},
   "outputs": [],
   "source": [
    "vocab_dir = os.path.join('data/VRD')\n",
    "predicate_dict, obj_subj_dict = get_dict(vocab_dir)"
   ]
  },
  {
   "cell_type": "code",
   "execution_count": null,
   "metadata": {},
   "outputs": [],
   "source": [
    "def get_score(i, j, vec, eps=10e-8):\n",
    "    current_vec = np.array([i-5, j-5])\n",
    "    current_vec = current_vec/(np.linalg.norm(current_vec)+eps)\n",
    "    vec = vec/(np.linalg.norm(vec)+eps)\n",
    "    score = vec.dot(current_vec)\n",
    "    return score"
   ]
  },
  {
   "cell_type": "code",
   "execution_count": null,
   "metadata": {},
   "outputs": [],
   "source": [
    "def get_filter(vec, filter_size=10):\n",
    "    filter_template = np.zeros((1, filter_size,filter_size))\n",
    "    for i in range(filter_size):\n",
    "        for j in range(filter_size):\n",
    "            if i != j:\n",
    "                filter_template[0, i, j] = get_score(i, j, vec)\n",
    "    return filter_template"
   ]
  },
  {
   "cell_type": "code",
   "execution_count": null,
   "metadata": {},
   "outputs": [],
   "source": [
    "def get_vec(s_bbox, o_bbox):\n",
    "    s_center = ((s_bbox[0]+s_bbox[1])/2., (s_bbox[2]+s_bbox[3])/2.)\n",
    "    o_center = ((o_bbox[0]+o_bbox[1])/2., (o_bbox[2]+o_bbox[3])/2.)\n",
    "    vec = np.array([o_center[0]-s_center[0], o_center[1]-s_center[1]])\n",
    "    return vec"
   ]
  },
  {
   "cell_type": "code",
   "execution_count": null,
   "metadata": {},
   "outputs": [],
   "source": [
    "print(' | '.join(predicate_dict))"
   ]
  },
  {
   "cell_type": "code",
   "execution_count": null,
   "metadata": {},
   "outputs": [],
   "source": [
    "predicate = 'walk next to'\n",
    "predicate_id = predicate_dict.index(predicate)\n",
    "conv_filters = []\n",
    "for img in annotations_test.keys():\n",
    "    for rel in annotations_test[img]:\n",
    "        if rel[\"predicate\"]==predicate_id:\n",
    "            s_bbox = rel[\"subject\"][\"bbox\"]\n",
    "            o_bbox = rel[\"object\"][\"bbox\"]\n",
    "            vec = get_vec(s_bbox, o_bbox)\n",
    "            conv_filters += [get_filter(vec)]\n",
    "print(\"number of examples for predicate '{}': {}\".format(predicate, len(conv_filters)))\n",
    "conv_filters = np.concatenate(conv_filters, axis=0)\n",
    "interp_method = 'gaussian'\n",
    "plt.imshow(conv_filters.mean(axis=0), interpolation=interp_method)\n",
    "plt.axis(\"off\")\n",
    "plt.title(predicate)\n",
    "plt.show()"
   ]
  },
  {
   "cell_type": "code",
   "execution_count": null,
   "metadata": {},
   "outputs": [],
   "source": []
  }
 ],
 "metadata": {
  "kernelspec": {
   "display_name": "Python 3",
   "language": "python",
   "name": "python3"
  },
  "language_info": {
   "codemirror_mode": {
    "name": "ipython",
    "version": 3
   },
   "file_extension": ".py",
   "mimetype": "text/x-python",
   "name": "python",
   "nbconvert_exporter": "python",
   "pygments_lexer": "ipython3"
  }
 },
 "nbformat": 4,
 "nbformat_minor": 2
}
