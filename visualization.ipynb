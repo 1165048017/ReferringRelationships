{
 "metadata": {
  "kernelspec": {
   "display_name": "Python 3",
   "language": "python",
   "name": "python3"
  },
  "language_info": {
   "codemirror_mode": {
    "name": "ipython",
    "version": 3
   },
   "file_extension": ".py",
   "mimetype": "text/x-python",
   "name": "python",
   "nbconvert_exporter": "python",
   "pygments_lexer": "ipython3",
   "version": "3.4.3"
  },
  "name": ""
 },
 "nbformat": 3,
 "nbformat_minor": 0,
 "worksheets": [
  {
   "cells": [
    {
     "cell_type": "code",
     "collapsed": false,
     "input": [
      "from iterator import SmartIterator\n",
      "from utils.visualization_utils import get_att_map, objdict, get_dict\n",
      "from keras.models import load_model\n",
      "from models import ReferringRelationshipsModel\n",
      "#from old_models import ReferringRelationshipsModel\n",
      "from keras.utils import to_categorical\n",
      "import numpy as np\n",
      "import os\n",
      "from PIL import Image\n",
      "import json\n",
      "import matplotlib.pyplot as plt\n",
      "import h5py\n",
      "from keras.models import Model\n",
      "%matplotlib inline\n",
      "%load_ext autoreload\n",
      "%autoreload 2"
     ],
     "language": "python",
     "metadata": {},
     "outputs": []
    },
    {
     "cell_type": "markdown",
     "metadata": {},
     "source": [
      "# VRD\n"
     ]
    },
    {
     "cell_type": "code",
     "collapsed": false,
     "input": [
      "annotations_test = json.load(open(\"data/VRD/annotations_test.json\"))\n",
      "img_dir = '/data/chami/VRD/sg_dataset/sg_test_images/'\n",
      "vocab_dir = os.path.join('data/VRD')\n",
      "#model_checkpoint = \"/data/chami/ReferringRelationships/models/VRD/10_27_2017/sym_ssn/12/model17-0.54.h5\"\n",
      "model_checkpoint = \"/data/chami/ReferringRelationships/models/VRD/10_31_2017/ssn/2/model15-0.55.h5\""
     ],
     "language": "python",
     "metadata": {},
     "outputs": []
    },
    {
     "cell_type": "heading",
     "level": 1,
     "metadata": {},
     "source": [
      "Clevr"
     ]
    },
    {
     "cell_type": "code",
     "collapsed": false,
     "input": [
      "annotations_test = json.load(open(\"/data/ranjaykrishna/ReferringRelationships/data/clevr/annotations_test.json\"))"
     ],
     "language": "python",
     "metadata": {},
     "outputs": []
    },
    {
     "cell_type": "code",
     "collapsed": false,
     "input": [
      "test_data_dir = '/data/ranjaykrishna/ReferringRelationships/data/dataset-clevr-small/test/'\n",
      "img_dir = '/data/ranjaykrishna/clevr/images/val/'\n",
      "vocab_dir = '/data/chami/ReferringRelationships/data/Clevr/'\n",
      "model_checkpoint = \"/data/chami/ReferringRelationships/models/Clevr/10_14_2017/2/model04-0.13.h5\""
     ],
     "language": "python",
     "metadata": {},
     "outputs": []
    },
    {
     "cell_type": "code",
     "collapsed": false,
     "input": [
      "predicate_dict, obj_subj_dict = get_dict(vocab_dir)\n",
      "image_ids = sorted(list(annotations_test.keys()))[:1000]\n",
      "params = objdict(json.load(open(os.path.join(os.path.dirname(model_checkpoint), \"args.json\"), \"r\")))\n",
      "params.use_internal_loss = False\n",
      "params.categorical_predicate = False\n",
      "#relationships_model = ReferringRelationshipsModel(params)\n",
      "test_generator = SmartIterator(test_data_dir, params)\n",
      "images = test_generator.get_image_dataset()\n",
      "subj_id = np.zeros((1, 1))\n",
      "predicate_id = np.zeros((1, params.num_predicates))\n",
      "obj_id = np.zeros((1, 1))"
     ],
     "language": "python",
     "metadata": {},
     "outputs": []
    },
    {
     "cell_type": "heading",
     "level": 3,
     "metadata": {},
     "source": [
      "Setup"
     ]
    },
    {
     "cell_type": "code",
     "collapsed": false,
     "input": [
      "predicate_dict, obj_subj_dict = get_dict(vocab_dir)\n",
      "image_ids = sorted(list(annotations_test.keys()))[:1000]\n",
      "params = objdict(json.load(open(os.path.join(os.path.dirname(model_checkpoint), \"args.json\"), \"r\")))\n",
      "params.use_internal_loss = False\n",
      "relationships_model = ReferringRelationshipsModel(params)\n",
      "test_generator = SmartIterator(params.test_data_dir, params)\n",
      "images = test_generator.get_image_dataset()\n",
      "subj_id = np.zeros((1, 1))\n",
      "predicate_id = np.zeros((1, params.num_predicates))\n",
      "obj_id = np.zeros((1, 1))"
     ],
     "language": "python",
     "metadata": {},
     "outputs": []
    },
    {
     "cell_type": "heading",
     "level": 3,
     "metadata": {},
     "source": [
      "Load the model."
     ]
    },
    {
     "cell_type": "code",
     "collapsed": false,
     "input": [
      "model = relationships_model.build_model()\n",
      "model.load_weights(model_checkpoint)"
     ],
     "language": "python",
     "metadata": {},
     "outputs": []
    },
    {
     "cell_type": "code",
     "collapsed": false,
     "input": [
      "model.summary()"
     ],
     "language": "python",
     "metadata": {},
     "outputs": []
    },
    {
     "cell_type": "code",
     "collapsed": false,
     "input": [
      "output = model.get_layer(\"before-pred\").output\n",
      "before_pred = Model(inputs=model.input, outputs=output)\n",
      "output = model.get_layer(\"after-pred\").output\n",
      "after_pred = Model(inputs=model.input, outputs=output)"
     ],
     "language": "python",
     "metadata": {},
     "outputs": []
    },
    {
     "cell_type": "heading",
     "level": 3,
     "metadata": {},
     "source": [
      "USER INPUT - Pick an image "
     ]
    },
    {
     "cell_type": "code",
     "collapsed": false,
     "input": [
      "#################\n",
      "image_index = np.random.randint(1000)\n",
      "print(image_index)\n",
      "#################\n",
      "img = Image.open(os.path.join(img_dir, image_ids[image_index]))\n",
      "img = img.resize((params.input_dim, params.input_dim))\n",
      "plt.figure(figsize=(5,5))\n",
      "plt.imshow(img)\n",
      "plt.axis(\"off\")"
     ],
     "language": "python",
     "metadata": {},
     "outputs": []
    },
    {
     "cell_type": "heading",
     "level": 3,
     "metadata": {},
     "source": [
      "USER INPUT - Pick a relationship "
     ]
    },
    {
     "cell_type": "code",
     "collapsed": false,
     "input": [
      "#################\n",
      "subj = \"sky\"\n",
      "predicate = \"below\"\n",
      "obj = \"car\"\n",
      "#################\n",
      "relationship = [subj, predicate, obj]\n",
      "subj_id[0, 0] = obj_subj_dict.index(subj)\n",
      "predicate_id[0, predicate_dict.index(predicate)] = 1\n",
      "obj_id[0, 0] = obj_subj_dict.index(obj)"
     ],
     "language": "python",
     "metadata": {},
     "outputs": []
    },
    {
     "cell_type": "code",
     "collapsed": false,
     "input": [
      "model_checkpoint"
     ],
     "language": "python",
     "metadata": {},
     "outputs": []
    },
    {
     "cell_type": "heading",
     "level": 3,
     "metadata": {},
     "source": [
      "Run the model and visualize the heatmaps."
     ]
    },
    {
     "cell_type": "code",
     "collapsed": false,
     "input": [
      "subject_heatmap, object_heatmap = model.predict([images[image_index:image_index+1], subj_id, predicate_id, obj_id])\n",
      "att_map = get_att_map(img, subject_heatmap[0], object_heatmap[0], params.input_dim, relationship)\n",
      "plt.figure(figsize=(15, 15))\n",
      "plt.imshow(att_map)\n",
      "plt.title(\"-\".join(relationship))\n",
      "plt.axis(\"off\")"
     ],
     "language": "python",
     "metadata": {},
     "outputs": []
    },
    {
     "cell_type": "code",
     "collapsed": false,
     "input": [
      "interp_method = 'gaussian'\n",
      "map_1 = before_pred.predict([images[image_index:image_index+1], subj_id, predicate_id, obj_id])\n",
      "map_2 = after_pred.predict([images[image_index:image_index+1], subj_id, predicate_id, obj_id])\n",
      "fig, axes = plt.subplots(1, 2, figsize=(15, 7))\n",
      "axes[0].imshow(map_1.reshape((params.feat_map_dim, params.feat_map_dim)), interpolation=interp_method)\n",
      "plot = axes[1].imshow(map_2.reshape((params.feat_map_dim, params.feat_map_dim)), interpolation=interp_method)\n",
      "axes[0].axis(\"off\")\n",
      "axes[0].set_title(\"before {}\".format(predicate))\n",
      "axes[1].axis(\"off\")\n",
      "axes[1].set_title(\"after {}\".format(predicate))\n",
      "fig.colorbar(plot, ax=axes.ravel().tolist())"
     ],
     "language": "python",
     "metadata": {},
     "outputs": []
    },
    {
     "cell_type": "code",
     "collapsed": false,
     "input": [
      "map_1.reshape((params.feat_map_dim, params.feat_map_dim))"
     ],
     "language": "python",
     "metadata": {},
     "outputs": []
    },
    {
     "cell_type": "code",
     "collapsed": false,
     "input": [
      "#################\n",
      "image_index = 0 \n",
      "#################\n",
      "import seaborn as sns\n",
      "cmap_2 = sns.cubehelix_palette(8, start=2, rot=0, dark=0.3, light=.95, reverse=True, as_cmap=True)\n",
      "fig, axes = plt.subplots(1, 3, figsize=(15,5))\n",
      "img = Image.open(os.path.join(img_dir, image_ids[image_index]))\n",
      "img = img.resize((params.input_dim, params.input_dim))\n",
      "axes[0].imshow(img)\n",
      "axes[0].axis(\"off\")\n",
      "axes[0].set_title(\"Original image\")\n",
      "axes[1].imshow(255*test_generator[0][1][0][0].reshape(224,224),cmap=cmap_2)\n",
      "axes[1].axis(\"off\")\n",
      "axes[1].set_title(\"Subject bounding box\")\n",
      "axes[2].imshow(255*test_generator[0][1][1][0].reshape(224,224),cmap=cmap_2)\n",
      "axes[2].axis(\"off\")\n",
      "axes[2].set_title(\"Object bounding box\")"
     ],
     "language": "python",
     "metadata": {},
     "outputs": []
    },
    {
     "cell_type": "code",
     "collapsed": false,
     "input": [
      "obj_subj_dict[int(test_generator[0][0][1][0])], predicate_dict[int(test_generator[0][0][2][0])], obj_subj_dict[int(test_generator[0][0][3][0])]"
     ],
     "language": "python",
     "metadata": {},
     "outputs": []
    },
    {
     "cell_type": "code",
     "collapsed": false,
     "input": [],
     "language": "python",
     "metadata": {},
     "outputs": []
    }
   ],
   "metadata": {}
  }
 ]
}
