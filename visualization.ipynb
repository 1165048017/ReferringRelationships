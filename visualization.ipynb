{
 "cells": [
  {
   "cell_type": "code",
   "execution_count": null,
   "metadata": {},
   "outputs": [],
   "source": [
    "from iterator import PredicateIterator\n",
    "from utils.visualization_utils import get_att_map, objdict, get_dict\n",
    "from keras.models import load_model\n",
    "\n",
    "import numpy as np\n",
    "import os\n",
    "from PIL import Image\n",
    "import json\n",
    "import matplotlib.pyplot as plt\n",
    "\n",
    "%matplotlib inline\n",
    "%load_ext autoreload\n",
    "%autoreload 2"
   ]
  },
  {
   "cell_type": "markdown",
   "metadata": {},
   "source": [
    "# VRD\n"
   ]
  },
  {
   "cell_type": "code",
   "execution_count": null,
   "metadata": {},
   "outputs": [],
   "source": [
    "annotations_test = json.load(open(\"data/VRD/annotations_test.json\"))\n",
    "test_data_dir = 'data/predicate-vrd/test'\n",
    "img_dir = '/data/chami/VRD/sg_dataset/sg_test_images/'\n",
    "vocab_dir = os.path.join('data/VRD')\n",
    "model_checkpoint = \"temp/pred-vrd/model49-1.08.h5\""
   ]
  },
  {
   "cell_type": "markdown",
   "metadata": {},
   "source": [
    "# Clevr"
   ]
  },
  {
   "cell_type": "code",
   "execution_count": null,
   "metadata": {},
   "outputs": [],
   "source": [
    "annotations_test = json.load(open(\"data/clevr/annotations_test.json\"))\n",
    "test_data_dir = 'data/pred-clevr/test'\n",
    "img_dir = '/data/ranjaykrishna/clevr/images/test/'\n",
    "vocab_dir = os.path.join('data/VRD')\n",
    "model_checkpoint = \"temp/pred-vrd/model49-1.08.h5\""
   ]
  },
  {
   "cell_type": "markdown",
   "metadata": {},
   "source": [
    "### Setup"
   ]
  },
  {
   "cell_type": "code",
   "execution_count": null,
   "metadata": {},
   "outputs": [],
   "source": [
    "predicate_dict, obj_subj_dict = get_dict(vocab_dir)\n",
    "image_ids = sorted(list(annotations_test.keys()))\n",
    "params = objdict(json.load(open(os.path.join(os.path.dirname(model_checkpoint), \"args.json\"), \"r\")))\n",
    "params.nb_conv_move_map = 3\n",
    "if params.model == 'ssn':\n",
    "    from ssn import ReferringRelationshipsModel\n",
    "else:\n",
    "    from model import ReferringRelationshipsModel\n",
    "relationships_model = ReferringRelationshipsModel(params)\n",
    "test_generator = PredicateIterator(test_data_dir, params)\n",
    "images = test_generator.get_image_dataset()\n",
    "subj_id = np.zeros((1, 1))\n",
    "predicate_id = np.zeros((1, 1))\n",
    "obj_id = np.zeros((1, 1))"
   ]
  },
  {
   "cell_type": "markdown",
   "metadata": {},
   "source": [
    "### Load the model."
   ]
  },
  {
   "cell_type": "code",
   "execution_count": null,
   "metadata": {},
   "outputs": [],
   "source": [
    "model = relationships_model.build_model()\n",
    "model.load_weights(model_checkpoint)"
   ]
  },
  {
   "cell_type": "markdown",
   "metadata": {},
   "source": [
    "### USER INPUT - Pick an image "
   ]
  },
  {
   "cell_type": "code",
   "execution_count": null,
   "metadata": {},
   "outputs": [],
   "source": [
    "#################\n",
    "image_index = 121\n",
    "#################\n",
    "img = Image.open(os.path.join(img_dir, image_ids[image_index]))\n",
    "img = img.resize((params.input_dim, params.input_dim))\n",
    "plt.figure(figsize=(5,5))\n",
    "plt.imshow(img)"
   ]
  },
  {
   "cell_type": "markdown",
   "metadata": {},
   "source": [
    "### USER INPUT - Pick a relationship "
   ]
  },
  {
   "cell_type": "code",
   "execution_count": null,
   "metadata": {},
   "outputs": [],
   "source": [
    "#################\n",
    "subj = \"person\"\n",
    "predicate = \"hold\"\n",
    "obj = \"remote\"\n",
    "#################\n",
    "relationship = [subj, predicate, obj]\n",
    "subj_id[0, 0] = obj_subj_dict.index(subj)\n",
    "predicate_id[0, 0] = predicate_dict.index(predicate)\n",
    "obj_id[0, 0] = obj_subj_dict.index(obj)"
   ]
  },
  {
   "cell_type": "markdown",
   "metadata": {},
   "source": [
    "### Run the model and visualize the heatmaps."
   ]
  },
  {
   "cell_type": "code",
   "execution_count": null,
   "metadata": {},
   "outputs": [],
   "source": [
    "subject_heatmap, object_heatmap = model.predict([images[image_index:image_index+1], subj_id, predicate_id, obj_id])\n",
    "att_map = get_att_map(img, subject_heatmap[0], object_heatmap[0], params.input_dim, relationship)\n",
    "plt.figure(figsize=(15, 15))\n",
    "plt.imshow(att_map)"
   ]
  },
  {
   "cell_type": "code",
   "execution_count": null,
   "metadata": {},
   "outputs": [],
   "source": []
  }
 ],
 "metadata": {
  "kernelspec": {
   "display_name": "Python 3",
   "language": "python",
   "name": "python3"
  },
  "language_info": {
   "codemirror_mode": {
    "name": "ipython",
    "version": 3
   },
   "file_extension": ".py",
   "mimetype": "text/x-python",
   "name": "python",
   "nbconvert_exporter": "python",
   "pygments_lexer": "ipython3"
  }
 },
 "nbformat": 4,
 "nbformat_minor": 2
}
