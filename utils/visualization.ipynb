{
 "cells": [
  {
   "cell_type": "code",
   "execution_count": null,
   "metadata": {},
   "outputs": [],
   "source": [
    "from ReferringRelationships.iterator import RefRelDataIterator\n",
    "from ReferringRelationships.utils.visualization_utils import get_att_map, objdict, get_dict\n",
    "\n",
    "import numpy as np\n",
    "import os\n",
    "import cv2\n",
    "import json\n",
    "import matplotlib.pyplot as plt\n",
    "%matplotlib inline"
   ]
  },
  {
   "cell_type": "code",
   "execution_count": null,
   "metadata": {},
   "outputs": [],
   "source": [
    "annotations_test = json.load(open(os.path.join(os.environ['REL_HOME'], \"ReferringRelationships/data/VRD/annotations_test.json\")))\n",
    "test_data_dir = \"/data/chami/VRD/10_09_2017/test\"\n",
    "img_dir = \"/data/chami/VRD/sg_dataset/sg_test_images/\"\n",
    "vocab_dir = os.path.join(os.environ['REL_HOME'], \"ReferringRelationships/data/VRD\")\n",
    "predicate_dict, obj_subj_dict = get_dict(vocab_dir)"
   ]
  },
  {
   "cell_type": "code",
   "execution_count": null,
   "metadata": {},
   "outputs": [],
   "source": [
    "model_checkpoint = \"/data/chami/ReferringRelationships/models/10_09_2017/5/model26-0.58.h5\"\n",
    "params = objdict(json.load(open(os.path.join(os.path.dirname(model_checkpoint), \"args.json\"), \"r\")))\n",
    "params.nb_conv_move_map = 3\n",
    "if params.model == 'ssn':\n",
    "    from ReferringRelationships.ssn import ReferringRelationshipsModel\n",
    "else:\n",
    "    from ReferringRelationships.model import ReferringRelationshipsModel\n",
    "relationships_model = ReferringRelationshipsModel(params)\n",
    "model = relationships_model.build_model()"
   ]
  },
  {
   "cell_type": "code",
   "execution_count": null,
   "metadata": {},
   "outputs": [],
   "source": [
    "model.load_weights(model_checkpoint)\n",
    "test_generator = RefRelDataIterator(test_data_dir, params)"
   ]
  },
  {
   "cell_type": "code",
   "execution_count": null,
   "metadata": {},
   "outputs": [],
   "source": [
    "images = test_generator.images\n",
    "subj_id = np.zeros((1, 1))\n",
    "predicate_id = np.zeros((1, 1))\n",
    "obj_id = np.zeros((1, 1))\n",
    "image_ids = sorted(list(annotations_test.keys()))"
   ]
  },
  {
   "cell_type": "markdown",
   "metadata": {},
   "source": [
    "### USER INPUT HERE "
   ]
  },
  {
   "cell_type": "code",
   "execution_count": null,
   "metadata": {},
   "outputs": [],
   "source": [
    "image_index = 10"
   ]
  },
  {
   "cell_type": "code",
   "execution_count": null,
   "metadata": {},
   "outputs": [],
   "source": [
    "img = cv2.imread(os.path.join(img_dir, image_ids[image_index]))\n",
    "img = cv2.cvtColor(cv2.resize(img, (params.input_dim, params.input_dim)),cv2.COLOR_BGR2RGB)\n",
    "plt.figure(figsize=(5,5))\n",
    "plt.imshow(img)"
   ]
  },
  {
   "cell_type": "code",
   "execution_count": null,
   "metadata": {},
   "outputs": [],
   "source": [
    "# just to make sure that the image frome dataset.hdf5 is the same\n",
    "plt.imshow(images[image_index]+124)"
   ]
  },
  {
   "cell_type": "markdown",
   "metadata": {},
   "source": [
    "### USER INPUT HERE "
   ]
  },
  {
   "cell_type": "code",
   "execution_count": null,
   "metadata": {},
   "outputs": [],
   "source": [
    "subj = \"bus\"\n",
    "predicate = \"next to\"\n",
    "obj = \"building\"\n",
    "relationship = [subj, predicate, obj]"
   ]
  },
  {
   "cell_type": "code",
   "execution_count": null,
   "metadata": {},
   "outputs": [],
   "source": [
    "subj_id[0, 0] = obj_subj_dict.index(subj)\n",
    "predicate_id[0, 0] = predicate_dict.index(predicate)\n",
    "obj_id[0, 0] = obj_subj_dict.index(obj)"
   ]
  },
  {
   "cell_type": "code",
   "execution_count": null,
   "metadata": {},
   "outputs": [],
   "source": [
    "subject_heatmap, object_heatmap = model.predict([images[image_index:image_index+1], subj_id, predicate_id, obj_id])"
   ]
  },
  {
   "cell_type": "code",
   "execution_count": null,
   "metadata": {},
   "outputs": [],
   "source": [
    "att_map = get_att_map(img.astype(np.float32), subject_heatmap[0], object_heatmap[0], params.input_dim, relationship)"
   ]
  },
  {
   "cell_type": "code",
   "execution_count": null,
   "metadata": {},
   "outputs": [],
   "source": [
    "plt.figure(figsize=(15, 15))\n",
    "plt.imshow(att_map.astype(np.uint8))"
   ]
  }
 ],
 "metadata": {
  "kernelspec": {
   "display_name": "Python 3",
   "language": "python",
   "name": "python3"
  },
  "language_info": {
   "codemirror_mode": {
    "name": "ipython",
    "version": 3
   },
   "file_extension": ".py",
   "mimetype": "text/x-python",
   "name": "python",
   "nbconvert_exporter": "python",
   "pygments_lexer": "ipython3"
  }
 },
 "nbformat": 4,
 "nbformat_minor": 2
}
