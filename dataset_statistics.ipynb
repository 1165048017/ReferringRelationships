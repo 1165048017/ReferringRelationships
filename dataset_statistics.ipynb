{
 "cells": [
  {
   "cell_type": "code",
   "execution_count": 2,
   "metadata": {},
   "outputs": [
    {
     "name": "stderr",
     "output_type": "stream",
     "text": [
      "Using TensorFlow backend.\n"
     ]
    }
   ],
   "source": [
    "import json\n",
    "import numpy as np\n",
    "import math\n",
    "import matplotlib.pyplot as plt\n",
    "import os\n",
    "from utils.visualization_utils import get_dict\n",
    "\n",
    "%matplotlib inline\n",
    "%load_ext autoreload\n",
    "%autoreload 2"
   ]
  },
  {
   "cell_type": "code",
   "execution_count": 3,
   "metadata": {},
   "outputs": [],
   "source": [
    "vrd_train_annotations = json.load(open(\"/data/ranjaykrishna/ReferringRelationships/data/VRD/annotations_train.json\"))\n",
    "vrd_test_annotations = json.load(open(\"/data/ranjaykrishna/ReferringRelationships/data/VRD/annotations_test.json\"))\n",
    "clevr_test_annotations = json.load(open(\"/data/ranjaykrishna/ReferringRelationships/data/clevr_color/annotations_test.json\"))\n",
    "#vg_train_annotations = json.load(open(\"/data/ranjaykrishna/ReferringRelationships/data/VisualGenome/VisualGenome/annotations_train.json\"))\n",
    "#vg_test_annotations = json.load(open(\"/data/ranjaykrishna/ReferringRelationships/data/VisualGenome/VisualGenome/annotations_test.json\"))"
   ]
  },
  {
   "cell_type": "code",
   "execution_count": 4,
   "metadata": {},
   "outputs": [],
   "source": [
    "vrd_obj_cat = json.load(open(\"/data/ranjaykrishna/ReferringRelationships/data/VRD/objects.json\"))\n",
    "clevr_obj_cat = json.load(open(\"/data/ranjaykrishna/ReferringRelationships/data/clevr_color/cat2obj.json\"))"
   ]
  },
  {
   "cell_type": "code",
   "execution_count": 6,
   "metadata": {
    "scrolled": true
   },
   "outputs": [],
   "source": [
    "def update_dict(dic, k, v):\n",
    "    if k in dic:\n",
    "        if not v in dic[k]:\n",
    "            dic[k] += [v]\n",
    "    else:\n",
    "        dic[k] = [v]\n",
    "    return dic\n",
    "\n",
    "def get_stats(annotations, data):\n",
    "    images_list = []\n",
    "    nb_im = 0\n",
    "    nb_im_multiple_objects = 0\n",
    "    for img in annotations:\n",
    "        nb_im += 1\n",
    "        objects_dict = {}\n",
    "        for rel in annotations[img]:\n",
    "            s_bbox = rel[\"subject\"][\"bbox\"]\n",
    "            o_bbox = rel[\"object\"][\"bbox\"]\n",
    "            s_cat = rel[\"subject\"][\"category\"]\n",
    "            o_cat = rel[\"object\"][\"category\"]\n",
    "            s_center = (int((s_bbox[0] + s_bbox[1])/2), int((s_bbox[2] + s_bbox[3])/2))\n",
    "            o_center = (int((o_bbox[0] + o_bbox[1])/2), int((o_bbox[2] + o_bbox[3])/2))\n",
    "            objects_dict = update_dict(objects_dict, s_cat, s_center)\n",
    "            objects_dict = update_dict(objects_dict, o_cat, o_center)\n",
    "        if len(objects_dict) < sum([len(x) for x in objects_dict.values()]):\n",
    "            nb_im_multiple_objects += 1\n",
    "            images_list += [img]\n",
    "    print(\"Proportion of images with same object category appearing multiple times\")\n",
    "    print(\"{} : {}\".format(data, 1.*nb_im_multiple_objects/nb_im))\n",
    "    return images_list\n",
    "\n",
    "def get_rel_multiple_objects(annotations, data):\n",
    "    filtered_annotations = {}\n",
    "    nb_rels = 0\n",
    "    nb_rel_multiple_objects = 0\n",
    "    for img in annotations:\n",
    "        for rel in annotations[img]:\n",
    "            nb_rels += 1\n",
    "            s_bbox = rel[\"subject\"][\"bbox\"]\n",
    "            o_bbox = rel[\"object\"][\"bbox\"]\n",
    "            s_cat = rel[\"subject\"][\"category\"]\n",
    "            o_cat = rel[\"object\"][\"category\"]\n",
    "            s_center = (int((s_bbox[0] + s_bbox[1])/2), int((s_bbox[2] + s_bbox[3])/2))\n",
    "            o_center = (int((o_bbox[0] + o_bbox[1])/2), int((o_bbox[2] + o_bbox[3])/2))\n",
    "            if s_cat == o_cat:\n",
    "                nb_rel_multiple_objects += 1\n",
    "                if img in filtered_annotations:\n",
    "                    filtered_annotations[img] += [rel]\n",
    "                else:\n",
    "                    filtered_annotations[img] = [rel]\n",
    "    print(\"Proportion of relations with same object and subject category\")\n",
    "    print(\"{} : {}\".format(data, 1.*nb_rel_multiple_objects/nb_rels))\n",
    "    print(\"Total number of relationships: {}\".format(nb_rels))\n",
    "    return filtered_annotations\n",
    "\n",
    "def get_annotation_obj_list(annotations, obj_list, data):\n",
    "    filtered_annotations = {}\n",
    "    nb_rels = 0\n",
    "    nb_rel_in_cat = 0\n",
    "    for img in annotations:\n",
    "        for rel in annotations[img]:\n",
    "            nb_rels += 1\n",
    "            s_cat = vrd_obj_cat[rel[\"subject\"][\"category\"]]\n",
    "            o_cat = vrd_obj_cat[rel[\"object\"][\"category\"]]\n",
    "            if s_cat in obj_list or o_cat in obj_list:\n",
    "                nb_rel_in_cat += 1\n",
    "                if img in filtered_annotations:\n",
    "                    filtered_annotations[img] += [rel]\n",
    "                else:\n",
    "                    filtered_annotations[img] = [rel]\n",
    "    print(\"Proportion of relations with object or subject category in:\\n {}\".format(obj_list))\n",
    "    print(\"{} : {}\".format(data, 1.*nb_rel_in_cat/nb_rels))\n",
    "    print(\"Total number of relationships: {}\".format(nb_rels))\n",
    "    print(\"Number of relationships kept: {}\".format(nb_rel_in_cat))\n",
    "    return filtered_annotations"
   ]
  },
  {
   "cell_type": "code",
   "execution_count": 46,
   "metadata": {},
   "outputs": [],
   "source": [
    "def get_rel_subset(annotations, data):\n",
    "    filtered_annotations = {}\n",
    "    nb_rel = 0\n",
    "    nb_im_multiple_objects = 0\n",
    "    for img in list(annotations.keys()):\n",
    "        objects_list = {}\n",
    "        for rel in annotations[img]:\n",
    "            nb_rel += 1\n",
    "            s_bbox = rel[\"subject\"][\"bbox\"]\n",
    "            o_bbox = rel[\"object\"][\"bbox\"]\n",
    "            s_cat = rel[\"subject\"][\"category\"]\n",
    "            o_cat = rel[\"object\"][\"category\"]\n",
    "            s_center = (int((s_bbox[0] + s_bbox[1])/2), int((s_bbox[2] + s_bbox[3])/2))\n",
    "            o_center = (int((o_bbox[0] + o_bbox[1])/2), int((o_bbox[2] + o_bbox[3])/2))\n",
    "            objects_list = update_dict(objects_list, s_cat, s_center)\n",
    "            objects_list = update_dict(objects_list, o_cat, o_center)\n",
    "        multiple_objects = []\n",
    "        for x in objects_list:\n",
    "            if len(objects_list[x]) > 1:\n",
    "                for center in objects_list[x]:\n",
    "                    multiple_objects += [(x, center)]\n",
    "        for rel in annotations[img]:\n",
    "            s_bbox = rel[\"subject\"][\"bbox\"]\n",
    "            o_bbox = rel[\"object\"][\"bbox\"]\n",
    "            s_cat = rel[\"subject\"][\"category\"]\n",
    "            o_cat = rel[\"object\"][\"category\"]\n",
    "            s_center = (int((s_bbox[0] + s_bbox[1])/2), int((s_bbox[2] + s_bbox[3])/2))\n",
    "            o_center = (int((o_bbox[0] + o_bbox[1])/2), int((o_bbox[2] + o_bbox[3])/2))\n",
    "            if (s_cat, s_center) in multiple_objects or (o_cat, o_center) in multiple_objects:\n",
    "                nb_im_multiple_objects += 1\n",
    "                filtered_annotations = update_dict(filtered_annotations, img, rel)\n",
    "    print(\"Proportion of relationships with object category appearing multiple times\")\n",
    "    print(\"{} : {}\".format(data, 1.*nb_im_multiple_objects/nb_rel))\n",
    "    return filtered_annotations"
   ]
  },
  {
   "cell_type": "code",
   "execution_count": 47,
   "metadata": {},
   "outputs": [
    {
     "name": "stdout",
     "output_type": "stream",
     "text": [
      "Proportion of relationships with object category appearing multiple times\n",
      "clevr : 0.8177356596776401\n"
     ]
    }
   ],
   "source": [
    "filtered_annotations = get_rel_subset(clevr_test_annotations, \"clevr\")"
   ]
  },
  {
   "cell_type": "code",
   "execution_count": 49,
   "metadata": {},
   "outputs": [],
   "source": [
    "json.dump(filtered_annotations, open('/data/chami/ReferringRelationships/data/Clevr/test_annotation_multi.json', 'w'))"
   ]
  },
  {
   "cell_type": "code",
   "execution_count": 50,
   "metadata": {},
   "outputs": [
    {
     "name": "stdout",
     "output_type": "stream",
     "text": [
      "Proportion of relationships with object category appearing multiple times\n",
      "vrd : 0.5806493846556691\n"
     ]
    }
   ],
   "source": [
    "filtered_annotations = get_rel_subset(vrd_test_annotations, \"vrd\")"
   ]
  },
  {
   "cell_type": "code",
   "execution_count": 53,
   "metadata": {},
   "outputs": [],
   "source": [
    "json.dump(filtered_annotations, open('/data/chami/ReferringRelationships/data/VRD/annotations_test_multi.json', 'w'))"
   ]
  },
  {
   "cell_type": "code",
   "execution_count": 52,
   "metadata": {},
   "outputs": [
    {
     "data": {
      "text/plain": [
       "1000"
      ]
     },
     "execution_count": 52,
     "metadata": {},
     "output_type": "execute_result"
    }
   ],
   "source": [
    "len(vrd_test_annotations)"
   ]
  },
  {
   "cell_type": "code",
   "execution_count": 45,
   "metadata": {},
   "outputs": [
    {
     "data": {
      "text/plain": [
       "15000"
      ]
     },
     "execution_count": 45,
     "metadata": {},
     "output_type": "execute_result"
    }
   ],
   "source": [
    "len(clevr_test_annotations)"
   ]
  },
  {
   "cell_type": "code",
   "execution_count": 41,
   "metadata": {},
   "outputs": [
    {
     "data": {
      "text/plain": [
       "[{'object': {'bbox': [176, 265, 4, 102], 'category': 10},\n",
       "  'predicate': 1,\n",
       "  'subject': {'bbox': [101, 601, 1, 110], 'category': 0}},\n",
       " {'object': {'bbox': [293, 591, 2, 68], 'category': 6},\n",
       "  'predicate': 1,\n",
       "  'subject': {'bbox': [101, 601, 1, 110], 'category': 0}},\n",
       " {'object': {'bbox': [389, 435, 721, 747], 'category': 52},\n",
       "  'predicate': 27,\n",
       "  'subject': {'bbox': [241, 550, 707, 846], 'category': 0}},\n",
       " {'object': {'bbox': [320, 361, 953, 1021], 'category': 62},\n",
       "  'predicate': 2,\n",
       "  'subject': {'bbox': [267, 675, 865, 1024], 'category': 0}},\n",
       " {'object': {'bbox': [267, 675, 865, 1024], 'category': 0},\n",
       "  'predicate': 0,\n",
       "  'subject': {'bbox': [320, 361, 953, 1021], 'category': 62}},\n",
       " {'object': {'bbox': [267, 675, 865, 1024], 'category': 0},\n",
       "  'predicate': 0,\n",
       "  'subject': {'bbox': [492, 554, 960, 996], 'category': 95}}]"
      ]
     },
     "execution_count": 41,
     "metadata": {},
     "output_type": "execute_result"
    }
   ],
   "source": [
    "filtered_annotations['10008170616_a54deca9e3_b.jpg']"
   ]
  },
  {
   "cell_type": "code",
   "execution_count": 14,
   "metadata": {},
   "outputs": [
    {
     "name": "stdout",
     "output_type": "stream",
     "text": [
      "Proportion of relations with object or subject category in:\n",
      " ['hydant', 'faucet', 'luggage', 'suitcase', 'ramp', 'grass', 'sky']\n",
      "vrd : 0.11861743912018853\n",
      "Total number of relationships: 7638\n",
      "Number of relationships kept: 906\n"
     ]
    }
   ],
   "source": [
    "obj_list = [\"hydant\", \"faucet\", \"luggage\", \"suitcase\", \"ramp\", \"grass\", \"sky\"]\n",
    "filtered_annotations = get_annotation_obj_list(vrd_test_annotations, obj_list, \"vrd\")"
   ]
  },
  {
   "cell_type": "code",
   "execution_count": 25,
   "metadata": {},
   "outputs": [],
   "source": [
    "json.dump(ann, open('/data/chami/ReferringRelationships/data/vrd_rels_multiple_objects.json', 'w'))"
   ]
  },
  {
   "cell_type": "code",
   "execution_count": 8,
   "metadata": {},
   "outputs": [
    {
     "name": "stdout",
     "output_type": "stream",
     "text": [
      "Proportion of images with same object category appearing multiple times\n",
      "vrd : 0.612\n"
     ]
    }
   ],
   "source": [
    "test_vrd_images = get_stats(vrd_test_annotations, \"vrd\")"
   ]
  },
  {
   "cell_type": "code",
   "execution_count": 106,
   "metadata": {},
   "outputs": [
    {
     "data": {
      "text/plain": [
       "5160"
      ]
     },
     "execution_count": 106,
     "metadata": {},
     "output_type": "execute_result"
    }
   ],
   "source": [
    "len(test_vg_images)"
   ]
  },
  {
   "cell_type": "code",
   "execution_count": 102,
   "metadata": {},
   "outputs": [],
   "source": [
    "json.dump(test_vrd_images, open('/data/chami/ReferringRelationships/data/vrd_images_multiple_objects.json', 'w'))"
   ]
  },
  {
   "cell_type": "code",
   "execution_count": 109,
   "metadata": {},
   "outputs": [],
   "source": [
    "json.dump(test_vg_images, open('/data/chami/ReferringRelationships/data/visual_genome_images_multiple_objects.json', 'w'))"
   ]
  },
  {
   "cell_type": "code",
   "execution_count": null,
   "metadata": {},
   "outputs": [],
   "source": []
  }
 ],
 "metadata": {
  "kernelspec": {
   "display_name": "Python 3",
   "language": "python",
   "name": "python3"
  },
  "language_info": {
   "codemirror_mode": {
    "name": "ipython",
    "version": 3
   },
   "file_extension": ".py",
   "mimetype": "text/x-python",
   "name": "python",
   "nbconvert_exporter": "python",
   "pygments_lexer": "ipython3",
   "version": "3.4.3"
  }
 },
 "nbformat": 4,
 "nbformat_minor": 2
}
