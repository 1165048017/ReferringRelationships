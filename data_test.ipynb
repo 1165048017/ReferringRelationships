{
 "cells": [
  {
   "cell_type": "code",
   "execution_count": null,
   "metadata": {},
   "outputs": [],
   "source": [
    "from data import SmartDataset\n",
    "from matplotlib import pyplot as plt\n",
    "\n",
    "import json\n",
    "import numpy as np\n",
    "from PIL import Image, ImageDraw\n",
    "import os\n",
    "\n",
    "plt.figure(figsize=(15, 20))\n",
    "%matplotlib inline"
   ]
  },
  {
   "cell_type": "markdown",
   "metadata": {},
   "source": [
    "# VRD"
   ]
  },
  {
   "cell_type": "code",
   "execution_count": null,
   "metadata": {},
   "outputs": [],
   "source": [
    "annotations = 'data/VRD/annotations_test.json'\n",
    "im_metadata_path = 'data/VRD/test_image_metadata.json'\n",
    "img_dir = '/data/chami/VRD/sg_dataset/sg_test_images'\n",
    "cat2obj = json.load(open('data/VRD/objects.json'))\n",
    "cat2pred = json.load(open('data/VRD/predicates.json'))\n",
    "data = json.load(open(annotations))\n",
    "image_ids = list(sorted(data))"
   ]
  },
  {
   "cell_type": "markdown",
   "metadata": {},
   "source": [
    "# Clevr"
   ]
  },
  {
   "cell_type": "code",
   "execution_count": null,
   "metadata": {},
   "outputs": [],
   "source": [
    "annotations = 'data/clevr/annotations_test.json'\n",
    "im_metadata_path = 'data/clevr/test_image_metadata.json'\n",
    "img_dir = '/data/ranjaykrishna/clevr/images/val'\n",
    "cat2obj = json.load(open('data/clevr/cat2obj.json'))\n",
    "cat2pred = json.load(open('data/clevr/cat2pred.json'))\n",
    "data = json.load(open(annotations))\n",
    "image_ids = list(sorted(data))"
   ]
  },
  {
   "cell_type": "code",
   "execution_count": null,
   "metadata": {},
   "outputs": [],
   "source": [
    "image_index = 1993\n",
    "rel_index = 22\n",
    "image_id = image_ids[image_index]\n",
    "image = Image.open(os.path.join(img_dir, image_id))\n",
    "rel = data[image_id][rel_index]\n",
    "print(cat2obj[rel['subject']['category']], cat2pred[rel['predicate']], cat2obj[rel['object']['category']])\n",
    "s_bbox = rel['subject']['bbox']\n",
    "o_bbox = rel['object']['bbox']\n",
    "print(s_bbox, o_bbox)\n",
    "draw = ImageDraw.Draw(image)\n",
    "draw.rectangle([s_bbox[2], s_bbox[0], s_bbox[3], s_bbox[1]], outline='red')\n",
    "draw.rectangle([o_bbox[2], o_bbox[0], o_bbox[3], o_bbox[1]], outline='green')\n",
    "plt.imshow(image)"
   ]
  },
  {
   "cell_type": "code",
   "execution_count": null,
   "metadata": {},
   "outputs": [],
   "source": []
  }
 ],
 "metadata": {
  "kernelspec": {
   "display_name": "Python 3",
   "language": "python",
   "name": "python3"
  },
  "language_info": {
   "codemirror_mode": {
    "name": "ipython",
    "version": 3
   },
   "file_extension": ".py",
   "mimetype": "text/x-python",
   "name": "python",
   "nbconvert_exporter": "python",
   "pygments_lexer": "ipython3"
  }
 },
 "nbformat": 4,
 "nbformat_minor": 2
}
