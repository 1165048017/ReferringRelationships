{
 "cells": [
  {
   "cell_type": "code",
   "execution_count": null,
   "metadata": {},
   "outputs": [],
   "source": [
    "from iterator import SmartIterator\n",
    "from utils.visualization_utils import get_att_map, objdict, get_dict\n",
    "\n",
    "import numpy as np\n",
    "import os\n",
    "from PIL import Image\n",
    "import json\n",
    "import h5py\n",
    "import seaborn as sns\n",
    "import matplotlib.pyplot as plt\n",
    "\n",
    "%matplotlib inline\n",
    "%load_ext autoreload\n",
    "%autoreload 2"
   ]
  },
  {
   "cell_type": "markdown",
   "metadata": {},
   "source": [
    "### Specify data type here: clevr, vrd of vg"
   ]
  },
  {
   "cell_type": "code",
   "execution_count": null,
   "metadata": {},
   "outputs": [],
   "source": [
    "data_type = \"vrd\""
   ]
  },
  {
   "cell_type": "code",
   "execution_count": null,
   "metadata": {},
   "outputs": [],
   "source": [
    "if data_type==\"vrd\":\n",
    "    nrows=7\n",
    "    ncols=10\n",
    "    ssn_checkpoint = \"/data/chami/ReferringRelationships/models/VRD/11_02_2017/ssn/5/model18-1.43.h5\"\n",
    "    sym_ssn_checkpoint = \"/data/chami/ReferringRelationships/models/VRD/11_02_2017/sym_ssn/2/model00-1.40.h5\"\n",
    "    vocab_dir = os.path.join('data/VRD')\n",
    "elif data_type==\"clevr\":\n",
    "    nrows=2\n",
    "    ncols=3\n",
    "    ssn_checkpoint = \"/data/chami/ReferringRelationships/models/Clevr/10_19_2017/1/model03-0.06.h5\"\n",
    "    sym_ssn_checkpoint = \"/data/chami/ReferringRelationships/models/Clevr/10_19_2017/2/model23-0.05.h5\"\n",
    "    #annotations_test = json.load(open(\"/data/chami/ReferringRelationships/data/Clevr/annotations_test.json\"))\n",
    "    #img_dir = '/data/chami/ReferringRelationships/data/Clevr/images/val'\n",
    "    vocab_dir = os.path.join('/data/chami/ReferringRelationships/data/Clevr/')\n",
    "predicate_dict, obj_subj_dict = get_dict(vocab_dir)"
   ]
  },
  {
   "cell_type": "markdown",
   "metadata": {},
   "source": [
    "## PREDICATE ONLY"
   ]
  },
  {
   "cell_type": "code",
   "execution_count": null,
   "metadata": {},
   "outputs": [],
   "source": [
    "model_weights = h5py.File(ssn_checkpoint)\n",
    "params = objdict(json.load(open(os.path.join(os.path.dirname(ssn_checkpoint), \"args.json\"), \"r\")))\n",
    "conv_filters = {}\n",
    "for i in range(params.num_predicates):\n",
    "    predicate = predicate_dict[i]\n",
    "    conv_filters[predicate] = []\n",
    "    for j in range(params.nb_conv_att_map):\n",
    "        conv_weights_name = \"conv{}-predicate{}\".format(j, i)\n",
    "        conv_filters[predicate] += [model_weights[conv_weights_name][conv_weights_name]['kernel:0'][()].reshape(\n",
    "    (params.conv_predicate_channels, params.conv_predicate_kernel, params.conv_predicate_kernel)).mean(axis=0)]\n",
    "    conv_filters[predicate] = np.array(conv_filters[predicate])"
   ]
  },
  {
   "cell_type": "code",
   "execution_count": null,
   "metadata": {},
   "outputs": [],
   "source": [
    "#methods = [None, 'none', 'nearest', 'bilinear', 'bicubic', 'spline16',\n",
    "#           'spline36', 'hanning', 'hamming', 'hermite', 'kaiser', 'quadric',\n",
    "#           'catrom', 'gaussian', 'bessel', 'mitchell', 'sinc', 'lanczos']\n",
    "interp_method = \"spline36\"\n",
    "cmap_0 = sns.cubehelix_palette(light=0.9, as_cmap=True, dark=0.3)\n",
    "cmap_1 = sns.light_palette(\"navy\", as_cmap=True)\n",
    "cmap_2 = sns.cubehelix_palette(8, start=2, rot=0, dark=0.3, light=.95, reverse=True, as_cmap=True)"
   ]
  },
  {
   "cell_type": "code",
   "execution_count": null,
   "metadata": {},
   "outputs": [],
   "source": [
    "layer = 0\n",
    "fig, axs = plt.subplots(nrows=nrows, ncols=ncols, figsize=(20,12))\n",
    "fig.suptitle(\"Conv filters for layer {}\".format(layer), fontsize=16)\n",
    "idx = 0\n",
    "for i in range(nrows):\n",
    "    for j in range(ncols):\n",
    "        predicate = predicate_dict[idx]\n",
    "        ax = axs[i,j]\n",
    "        im = np.uint8(conv_filters[predicate][layer]*255)\n",
    "        plot = ax.imshow(im, interpolation=interp_method, cmap=cmap_0)\n",
    "        ax.set_title(predicate_dict[idx])\n",
    "        ax.axis(\"off\")\n",
    "        idx += 1\n",
    "fig.colorbar(plot, ax=axs.ravel().tolist())"
   ]
  },
  {
   "cell_type": "code",
   "execution_count": null,
   "metadata": {},
   "outputs": [],
   "source": [
    "fig, axs = plt.subplots(nrows=nrows, ncols=ncols, figsize=(20,12))\n",
    "fig.suptitle(\"Averaged conv filters for all layers\", fontsize=16)\n",
    "idx = 0\n",
    "for i in range(nrows):\n",
    "    for j in range(ncols):\n",
    "        predicate = predicate_dict[idx]\n",
    "        ax = axs[i,j]\n",
    "        im = np.uint8(conv_filters[predicate].mean(axis=0)*255)\n",
    "        plot = ax.imshow(im, interpolation=interp_method, cmap=cmap_1)\n",
    "        ax.set_title(predicate_dict[idx])\n",
    "        ax.axis(\"off\")\n",
    "        idx += 1\n",
    "fig.colorbar(plot, ax=axs.ravel().tolist())"
   ]
  },
  {
   "cell_type": "markdown",
   "metadata": {},
   "source": [
    "## PREDICATE AND INVERSE PREDICATE"
   ]
  },
  {
   "cell_type": "code",
   "execution_count": null,
   "metadata": {},
   "outputs": [],
   "source": [
    "model_weights = h5py.File(sym_ssn_checkpoint)\n",
    "params = objdict(json.load(open(os.path.join(os.path.dirname(sym_ssn_checkpoint), \"args.json\"), \"r\")))\n",
    "conv_filters = {}\n",
    "inv_conv_filters = {}\n",
    "for i in range(params.num_predicates):\n",
    "    predicate = predicate_dict[i]\n",
    "    conv_filters[predicate] = []\n",
    "    inv_conv_filters[predicate] = []\n",
    "    for j in range(params.nb_conv_att_map):\n",
    "        conv_weights_name = \"conv{}-predicate{}-0\".format(j, i)\n",
    "        conv_filters[predicate] += [model_weights[conv_weights_name][conv_weights_name]['kernel:0'][()].reshape(\n",
    "    (params.conv_predicate_channels, params.conv_predicate_kernel, params.conv_predicate_kernel)).mean(axis=0)]\n",
    "        inv_conv_weights_name = \"conv{}-predicate{}-1\".format(j, i)\n",
    "        inv_conv_filters[predicate] += [model_weights[inv_conv_weights_name][inv_conv_weights_name]['kernel:0'][()].reshape(\n",
    "    (params.conv_predicate_channels, params.conv_predicate_kernel, params.conv_predicate_kernel)).mean(axis=0)]\n",
    "    conv_filters[predicate] = np.array(conv_filters[predicate])\n",
    "    inv_conv_filters[predicate] = np.array(inv_conv_filters[predicate])"
   ]
  },
  {
   "cell_type": "code",
   "execution_count": null,
   "metadata": {},
   "outputs": [],
   "source": [
    "fig, axs = plt.subplots(nrows=nrows*2, ncols=ncols, figsize=(20,22))\n",
    "fig.suptitle(\"Averaged conv and inverse conv filters for all layers\", fontsize=16)\n",
    "idx = 0\n",
    "for i in range(nrows):\n",
    "    for j in range(ncols):\n",
    "        ax = axs[2*i, j]\n",
    "        predicate = predicate_dict[idx]\n",
    "        im = np.uint8(conv_filters[predicate].mean(axis=0)*255)\n",
    "        plot = ax.imshow(im, interpolation=interp_method, cmap=cmap_1)\n",
    "        ax.set_title(predicate_dict[idx])\n",
    "        ax.axis(\"off\")\n",
    "        ax = axs[2*i+1, j]\n",
    "        im = np.uint8(inv_conv_filters[predicate].mean(axis=0)*255)\n",
    "        plot = ax.imshow(im, interpolation=interp_method, cmap=cmap_0)\n",
    "        ax.set_title(\"NOT {}\".format(predicate_dict[idx]))\n",
    "        ax.axis(\"off\")\n",
    "        idx += 1"
   ]
  },
  {
   "cell_type": "code",
   "execution_count": null,
   "metadata": {},
   "outputs": [],
   "source": []
  }
 ],
 "metadata": {
  "kernelspec": {
   "display_name": "Python 3",
   "language": "python",
   "name": "python3"
  },
  "language_info": {
   "codemirror_mode": {
    "name": "ipython",
    "version": 3
   },
   "file_extension": ".py",
   "mimetype": "text/x-python",
   "name": "python",
   "nbconvert_exporter": "python",
   "pygments_lexer": "ipython3"
  }
 },
 "nbformat": 4,
 "nbformat_minor": 1
}
