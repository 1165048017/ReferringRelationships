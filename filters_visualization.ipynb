{
 "cells": [
  {
   "cell_type": "code",
   "execution_count": null,
   "metadata": {},
   "outputs": [],
   "source": [
    "from iterator import SmartIterator\n",
    "from utils.visualization_utils import get_att_map, objdict, get_dict\n",
    "\n",
    "import numpy as np\n",
    "import os\n",
    "from PIL import Image\n",
    "import json\n",
    "import h5py\n",
    "import seaborn as sns\n",
    "import matplotlib.pyplot as plt\n",
    "\n",
    "%matplotlib inline\n",
    "%load_ext autoreload\n",
    "%autoreload 2"
   ]
  },
  {
   "cell_type": "markdown",
   "metadata": {},
   "source": [
    "### Specify data type here: clevr, vrd of vg"
   ]
  },
  {
   "cell_type": "code",
   "execution_count": null,
   "metadata": {},
   "outputs": [],
   "source": [
    "data_type = \"vrd\""
   ]
  },
  {
   "cell_type": "code",
   "execution_count": null,
   "metadata": {},
   "outputs": [],
   "source": [
    "if data_type==\"vrd\":\n",
    "    nrows=7\n",
    "    ncols=10\n",
    "    ssn_checkpoint = \"/data/chami/ReferringRelationships/models/VRD/11_01_2017/ssn/5/model19-0.55.h5\"\n",
    "    sym_ssn_checkpoint = \"/data/chami/ReferringRelationships/models/VRD/10_31_2017/sym_ssn/1/model18-1.06.h5\"\n",
    "    vocab_dir = os.path.join('data/VRD')\n",
    "elif data_type==\"clevr\":\n",
    "    nrows=2\n",
    "    ncols=3\n",
    "    ssn_checkpoint = \"/data/chami/ReferringRelationships/models/Clevr/10_19_2017/1/model03-0.06.h5\"\n",
    "    sym_ssn_checkpoint = \"/data/chami/ReferringRelationships/models/Clevr/10_19_2017/2/model23-0.05.h5\"\n",
    "    vocab_dir = os.path.join('/data/chami/ReferringRelationships/data/Clevr/')\n",
    "predicate_dict, obj_subj_dict = get_dict(vocab_dir)"
   ]
  },
  {
   "cell_type": "markdown",
   "metadata": {},
   "source": [
    "## PREDICATE ONLY"
   ]
  },
  {
   "cell_type": "code",
   "execution_count": null,
   "metadata": {},
   "outputs": [],
   "source": [
    "model_weights = h5py.File(ssn_checkpoint)\n",
    "params = objdict(json.load(open(os.path.join(os.path.dirname(ssn_checkpoint), \"args.json\"), \"r\")))\n",
    "conv_filters = model_weights[\"conv2d_2\"][\"conv2d_2\"]['kernel:0'][()].reshape(\n",
    "    (params.num_predicates, params.conv_predicate_kernel, params.conv_predicate_kernel))"
   ]
  },
  {
   "cell_type": "code",
   "execution_count": null,
   "metadata": {},
   "outputs": [],
   "source": [
    "#methods = [None, 'none', 'nearest', 'bilinear', 'bicubic', 'spline16',\n",
    "#           'spline36', 'hanning', 'hamming', 'hermite', 'kaiser', 'quadric',\n",
    "#           'catrom', 'gaussian', 'bessel', 'mitchell', 'sinc', 'lanczos']\n",
    "interp_method = \"gaussian\"\n",
    "cmap_0 = sns.cubehelix_palette(light=0.9, as_cmap=True, dark=0.3)\n",
    "cmap_1 = sns.light_palette(\"navy\", as_cmap=True)\n",
    "cmap_2 = sns.cubehelix_palette(8, start=2, rot=0, dark=0.3, light=.95, reverse=True, as_cmap=True)\n",
    "resample = Image.ANTIALIAS"
   ]
  },
  {
   "cell_type": "code",
   "execution_count": null,
   "metadata": {
    "scrolled": false
   },
   "outputs": [],
   "source": [
    "fig, axs = plt.subplots(nrows=nrows, ncols=ncols, figsize=(20,20))\n",
    "idx = 0\n",
    "for i in range(nrows):\n",
    "    for j in range(ncols):\n",
    "        ax = axs[i,j]\n",
    "        im = np.uint8(conv_filters[idx]*255)\n",
    "        plot = ax.imshow(im, interpolation=interp_method)#, cmap=cmap_1)\n",
    "        #im = Image.fromarray(np.uint8(conv_filters[idx]*255))\n",
    "        #im = np.array(im.resize((200, 200), resample))\n",
    "        #plot = ax.imshow(im, vmin=0, vmax=255)\n",
    "        ax.set_title(predicate_dict[idx])\n",
    "        ax.axis(\"off\")\n",
    "        idx += 1\n",
    "#fig.colorbar(plot, ax=axs.ravel().tolist())"
   ]
  },
  {
   "cell_type": "markdown",
   "metadata": {},
   "source": [
    "## PREDICATE AND INVERSE PREDICATE"
   ]
  },
  {
   "cell_type": "code",
   "execution_count": null,
   "metadata": {},
   "outputs": [],
   "source": [
    "model_weights = h5py.File(sym_ssn_checkpoint)\n",
    "params = objdict(json.load(open(os.path.join(os.path.dirname(sym_ssn_checkpoint), \"args.json\"), \"r\")))"
   ]
  },
  {
   "cell_type": "code",
   "execution_count": null,
   "metadata": {},
   "outputs": [],
   "source": [
    "conv_layers = ['conv2d_2','conv2d_3', 'conv2d_4','conv2d_5']\n",
    "conv_layers_inv = ['conv2d_6','conv2d_7','conv2d_8','conv2d_9']\n",
    "model_weights[conv_layer][conv_layer]['kernel:0'].shape"
   ]
  },
  {
   "cell_type": "code",
   "execution_count": null,
   "metadata": {},
   "outputs": [],
   "source": [
    "conv_filters_1 = model_weights[\"conv2d_2\"][\"conv2d_2\"]['kernel:0'][()].reshape(\n",
    "    (params.num_predicates, params.conv_predicate_kernel, params.conv_predicate_kernel))\n",
    "conv_filters_2 = model_weights[\"conv2d_3\"][\"conv2d_3\"]['kernel:0'][()].reshape(\n",
    "    (params.num_predicates, params.conv_predicate_kernel, params.conv_predicate_kernel))\n",
    "conv_filters_3 = model_weights[\"conv2d_4\"][\"conv2d_4\"]['kernel:0'][()].reshape(\n",
    "    (params.num_predicates, params.conv_predicate_kernel, params.conv_predicate_kernel))\n",
    "conv_filters_4 = model_weights[\"conv2d_5\"][\"conv2d_5\"]['kernel:0'][()].reshape(\n",
    "    (params.num_predicates, params.conv_predicate_kernel, params.conv_predicate_kernel))\n",
    "inv_conv_filters_1 = model_weights[\"conv2d_6\"][\"conv2d_6\"]['kernel:0'][()].reshape(\n",
    "    (params.num_predicates, params.conv_predicate_kernel, params.conv_predicate_kernel))\n",
    "inv_conv_filters_2 = model_weights[\"conv2d_7\"][\"conv2d_7\"]['kernel:0'][()].reshape(\n",
    "    (params.num_predicates, params.conv_predicate_kernel, params.conv_predicate_kernel))\n",
    "inv_conv_filters_3 = model_weights[\"conv2d_8\"][\"conv2d_8\"]['kernel:0'][()].reshape(\n",
    "    (params.num_predicates, params.conv_predicate_kernel, params.conv_predicate_kernel))\n",
    "inv_conv_filters_4 = model_weights[\"conv2d_9\"][\"conv2d_9\"]['kernel:0'][()].reshape(\n",
    "    (params.num_predicates, params.conv_predicate_kernel, params.conv_predicate_kernel))"
   ]
  },
  {
   "cell_type": "code",
   "execution_count": null,
   "metadata": {
    "scrolled": false
   },
   "outputs": [],
   "source": [
    "#methods = [None, 'none', 'nearest', 'bilinear', 'bicubic', 'spline16',\n",
    "#           'spline36', 'hanning', 'hamming', 'hermite', 'kaiser', 'quadric',\n",
    "#           'catrom', 'gaussian', 'bessel', 'mitchell', 'sinc', 'lanczos']\n",
    "nrows=7\n",
    "ncols=10\n",
    "interp_method = \"gaussian\"\n",
    "fig, axs = plt.subplots(nrows=nrows*2, ncols=ncols, figsize=(60,20))\n",
    "idx = 0\n",
    "for i in range(nrows):\n",
    "    for j in range(ncols):\n",
    "        ax = axs[2*i, j]\n",
    "        #im = np.uint8((conv_filters_1[idx]+conv_filters_2[idx]+conv_filters_3[idx]+conv_filters_4[idx])*255./4)\n",
    "        im = np.uint8(conv_filters_2[idx]*255.)\n",
    "        plot = ax.imshow(im, interpolation=interp_method, cmap=cmap_1)\n",
    "        ax.set_title(predicate_dict[idx])\n",
    "        ax.axis(\"off\")\n",
    "        ax = axs[2*i+1, j]\n",
    "        #im = np.uint8((inv_conv_filters_1[idx]+inv_conv_filters_2[idx]+inv_conv_filters_3[idx]+inv_conv_filters_4[idx])*255./4)\n",
    "        im = np.uint8(inv_conv_filters_2[idx]*255./2)\n",
    "        plot = ax.imshow(im, interpolation=interp_method, cmap=cmap_0)\n",
    "        ax.set_title(\"NOT {}\".format(predicate_dict[idx]))\n",
    "        ax.axis(\"off\")\n",
    "        idx += 1\n",
    "plt.subplots_adjust(wspace=0., hspace=0.3)\n",
    "#fig.colorbar(plot, ax=axs.ravel().tolist())"
   ]
  },
  {
   "cell_type": "code",
   "execution_count": null,
   "metadata": {},
   "outputs": [],
   "source": [
    "#methods = [None, 'none', 'nearest', 'bilinear', 'bicubic', 'spline16',\n",
    "#           'spline36', 'hanning', 'hamming', 'hermite', 'kaiser', 'quadric',\n",
    "#           'catrom', 'gaussian', 'bessel', 'mitchell', 'sinc', 'lanczos']\n",
    "nrows=7\n",
    "ncols=10\n",
    "interp_method = \"gaussian\"\n",
    "fig, axs = plt.subplots(nrows=nrows, ncols=ncols, figsize=(20,10))\n",
    "idx = 0\n",
    "for i in range(nrows):\n",
    "    for j in range(ncols):\n",
    "        ax = axs[i,j]\n",
    "        #im = np.uint8(conv_filters[idx]*255)\n",
    "        im = np.uint8((conv_filters_1[idx]+conv_filters_2[idx]+conv_filters_3[idx]+conv_filters_4[idx])*255./4)\n",
    "        plot = ax.imshow(im, interpolation=interp_method, cmap=cmap_1)\n",
    "        #im = Image.fromarray(np.uint8(conv_filters[idx]*255))\n",
    "        #im = np.array(im.resize((200, 200), resample))\n",
    "        #plot = ax.imshow(im, vmin=0, vmax=255)\n",
    "        ax.set_title(predicate_dict[idx])\n",
    "        ax.axis(\"off\")\n",
    "        idx += 1\n",
    "plt.subplots_adjust(wspace=0., hspace=0.3)\n",
    "#fig.colorbar(plot, ax=axs.ravel().tolist())"
   ]
  },
  {
   "cell_type": "code",
   "execution_count": null,
   "metadata": {},
   "outputs": [],
   "source": []
  }
 ],
 "metadata": {
  "kernelspec": {
   "display_name": "Python 3",
   "language": "python",
   "name": "python3"
  },
  "language_info": {
   "codemirror_mode": {
    "name": "ipython",
    "version": 3
   },
   "file_extension": ".py",
   "mimetype": "text/x-python",
   "name": "python",
   "nbconvert_exporter": "python",
   "pygments_lexer": "ipython3",
   "version": "3.4.3"
  }
 },
 "nbformat": 4,
 "nbformat_minor": 1
}
