{
 "cells": [
  {
   "cell_type": "code",
   "execution_count": null,
   "metadata": {},
   "outputs": [],
   "source": [
    "from iterator import SmartIterator\n",
    "from utils.visualization_utils import get_att_map, objdict, get_dict\n",
    "import keras.backend as K\n",
    "\n",
    "import numpy as np\n",
    "import os\n",
    "from PIL import Image\n",
    "import json\n",
    "import h5py\n",
    "import seaborn as sns\n",
    "import matplotlib.pyplot as plt\n",
    "import tensorflow as tf\n",
    "\n",
    "%matplotlib inline\n",
    "%load_ext autoreload\n",
    "%autoreload 2"
   ]
  },
  {
   "cell_type": "markdown",
   "metadata": {},
   "source": [
    "### Specify data type here: clevr, vrd of vg"
   ]
  },
  {
   "cell_type": "code",
   "execution_count": null,
   "metadata": {},
   "outputs": [],
   "source": [
    "###################\n",
    "data_type = \"vrd\"\n",
    "###################\n",
    "if data_type==\"vrd\":\n",
    "    nrows=7\n",
    "    ncols=5\n",
    "    ssn_checkpoint = \"/data/ranjaykrishna/ReferringRelationships/temp/vrd_ssn_convs3/model29-1.33.h5\"\n",
    "    sym_ssn_checkpoint = \"/data/ranjaykrishna/ReferringRelationships/temp/vrd_sym_ssn_convs3/model29-1.29.h5\"\n",
    "    vocab_dir = os.path.join('data/VRD')\n",
    "elif data_type==\"clevr\":\n",
    "    nrows=3\n",
    "    ncols=2\n",
    "    ssn_checkpoint = \"/data/ranjaykrishna/ReferringRelationships/temp/clevr_ssn/model03-0.15.h5\"\n",
    "    sym_ssn_checkpoint = \"/data/ranjaykrishna/ReferringRelationships/temp/clevr_sym_ssn_convs3_iterations2/model00-0.18.h5\"\n",
    "    #annotations_test = json.load(open(\"/data/chami/ReferringRelationships/data/Clevr/annotations_test.json\"))\n",
    "    #img_dir = '/data/chami/ReferringRelationships/data/Clevr/images/val'\n",
    "    vocab_dir = os.path.join('/data/chami/ReferringRelationships/data/Clevr/')\n",
    "predicate_dict, obj_subj_dict = get_dict(vocab_dir)"
   ]
  },
  {
   "cell_type": "markdown",
   "metadata": {},
   "source": [
    "## SSN Model ONLY"
   ]
  },
  {
   "cell_type": "code",
   "execution_count": null,
   "metadata": {},
   "outputs": [],
   "source": [
    "model_weights = h5py.File(ssn_checkpoint)\n",
    "params = objdict(json.load(open(os.path.join(os.path.dirname(ssn_checkpoint), \"args.json\"), \"r\")))\n",
    "#params.nb_conv_att_map = params.nb_conv_move_map\n",
    "conv_filters = {}\n",
    "for i in range(params.num_predicates):\n",
    "    predicate = predicate_dict[i]\n",
    "    conv_filters[predicate] = []\n",
    "    for j in range(params.nb_conv_att_map):\n",
    "        conv_weights_name = \"conv{}-predicate{}-0\".format(j, i)\n",
    "        conv_filters[predicate] += [model_weights[conv_weights_name][conv_weights_name]['kernel:0'][()]]"
   ]
  },
  {
   "cell_type": "markdown",
   "metadata": {},
   "source": [
    "### Show layer 0 - you can change the layer you want to visualize."
   ]
  },
  {
   "cell_type": "code",
   "execution_count": null,
   "metadata": {},
   "outputs": [],
   "source": [
    "###################\n",
    "#methods = [None, 'none', 'nearest', 'bilinear', 'bicubic', 'spline16',\n",
    "#           'spline36', 'hanning', 'hamming', 'hermite', 'kaiser', 'quadric',\n",
    "#           'catrom', 'gaussian', 'bessel', 'mitchell', 'sinc', 'lanczos']\n",
    "interp_method = \"spline16\"\n",
    "cmap_0 = sns.cubehelix_palette(light=0.9, as_cmap=True, dark=0.3)\n",
    "cmap_1 = sns.light_palette(\"navy\", as_cmap=True)\n",
    "cmap_2 = sns.cubehelix_palette(8, start=2, rot=0, dark=0.3, light=.95, reverse=True, as_cmap=True)\n",
    "cmap_3 = sns.color_palette(\"coolwarm\", 8)\n",
    "sns.set_palette(cmap_3)\n",
    "layer = 0\n",
    "###################\n",
    "fig, axs = plt.subplots(nrows=nrows, ncols=ncols, figsize=(20,12))\n",
    "fig.suptitle(\"Conv filters for layer {}\".format(layer), fontsize=16)\n",
    "idx = 0\n",
    "for i in range(nrows):\n",
    "    for j in range(ncols):\n",
    "        predicate = predicate_dict[idx]\n",
    "        ax = axs[i,j]\n",
    "        im = np.uint8(conv_filters[predicate][layer].sum(axis=3).sum(axis=2)*255)\n",
    "        plot = ax.imshow(im, interpolation=interp_method)\n",
    "        ax.set_title(predicate_dict[idx])\n",
    "        ax.axis(\"off\")\n",
    "        idx += 1\n",
    "fig.colorbar(plot, ax=axs.ravel().tolist())"
   ]
  },
  {
   "cell_type": "markdown",
   "metadata": {},
   "source": [
    "### Visualize the average weights for all layers."
   ]
  },
  {
   "cell_type": "code",
   "execution_count": null,
   "metadata": {},
   "outputs": [],
   "source": [
    "fig, axs = plt.subplots(nrows=nrows, ncols=ncols, figsize=(20,12))\n",
    "fig.suptitle(\"Conv filters for all layer\", fontsize=16)\n",
    "idx = 0\n",
    "sess = tf.InteractiveSession()\n",
    "for i in range(nrows):\n",
    "    for j in range(ncols):\n",
    "        predicate = predicate_dict[idx]\n",
    "        ax = axs[i,j]\n",
    "        kernel = K.constant(conv_filters[predicate][0])\n",
    "        for k in range(1, params.nb_conv_att_map):\n",
    "            kernel = K.conv2d(kernel, conv_filters[predicate][k], padding='same', data_format='channels_last')\n",
    "            kernel = K.relu(kernel)\n",
    "        kernel = K.sum(kernel, axis=3)\n",
    "        kernel = K.sum(kernel, axis=2)\n",
    "        im = np.uint8(kernel.eval()*255)\n",
    "        plot = ax.imshow(im, interpolation=interp_method)\n",
    "        ax.set_title(predicate_dict[idx])\n",
    "        ax.axis(\"off\")\n",
    "        idx += 1\n",
    "sess.close()\n",
    "fig.colorbar(plot, ax=axs.ravel().tolist())"
   ]
  },
  {
   "cell_type": "markdown",
   "metadata": {},
   "source": [
    "## SYM SSN model - PREDICATE AND INVERSE PREDICATE"
   ]
  },
  {
   "cell_type": "code",
   "execution_count": null,
   "metadata": {},
   "outputs": [],
   "source": [
    "model_weights = h5py.File(sym_ssn_checkpoint)\n",
    "params = objdict(json.load(open(os.path.join(os.path.dirname(sym_ssn_checkpoint), \"args.json\"), \"r\")))\n",
    "conv_filters = {}\n",
    "inv_conv_filters = {}\n",
    "for i in range(params.num_predicates):\n",
    "    predicate = predicate_dict[i]\n",
    "    conv_filters[predicate] = []\n",
    "    inv_conv_filters[predicate] = []\n",
    "    for j in range(params.nb_conv_att_map):\n",
    "        if 'conv0-predicate0' in model_weights:\n",
    "            conv_weights_name = \"conv{}-predicate{}\".format(j, i)\n",
    "            inv_conv_weights_name = \"conv{}-inv-predicate{}\".format(j, i)\n",
    "        else:\n",
    "            conv_weights_name = \"conv{}-predicate{}-0\".format(j, i)\n",
    "            inv_conv_weights_name = \"conv{}-predicate{}-1\".format(j, i)\n",
    "        if j == 0:\n",
    "            conv_filters[predicate] += [model_weights[conv_weights_name][conv_weights_name]['kernel:0'][()]]\n",
    "            inv_conv_filters[predicate] += [model_weights[inv_conv_weights_name][inv_conv_weights_name]['kernel:0'][()]]\n",
    "        else:\n",
    "            conv_filters[predicate] += [model_weights[conv_weights_name][conv_weights_name]['kernel:0'][()]]\n",
    "            inv_conv_filters[predicate] += [model_weights[inv_conv_weights_name][inv_conv_weights_name]['kernel:0'][()]]"
   ]
  },
  {
   "cell_type": "markdown",
   "metadata": {},
   "source": [
    "### Show layer 0 - you can change the layer you want to visualize."
   ]
  },
  {
   "cell_type": "code",
   "execution_count": null,
   "metadata": {},
   "outputs": [],
   "source": [
    "k = np.random.randint(70)\n",
    "im = np.uint8(model_weights['conv0-predicate{}-0'.format(k)]['conv0-predicate{}-0'.format(k)]['kernel:0'][()][:,:,0,:].max(axis=2)*255)\n",
    "plt.imshow(im, interpolation=\"gaussian\", cmap=cmap_0)\n",
    "plt.axis('off')\n",
    "predicate_dict[k]"
   ]
  },
  {
   "cell_type": "code",
   "execution_count": null,
   "metadata": {},
   "outputs": [],
   "source": [
    "model_weights['conv0-predicate{}-0'.format(k)]['conv0-predicate{}-0'.format(k)]['kernel:0'][()].shape"
   ]
  },
  {
   "cell_type": "code",
   "execution_count": null,
   "metadata": {},
   "outputs": [],
   "source": [
    "model_weights['conv0-predicate0-0']['conv0-predicate0-0']['kernel:0'][()][:,:,0,0]"
   ]
  },
  {
   "cell_type": "code",
   "execution_count": null,
   "metadata": {},
   "outputs": [],
   "source": [
    "###################\n",
    "layer = 0\n",
    "###################\n",
    "fig.suptitle(\"Conv filters for layer {}\".format(layer), fontsize=16)\n",
    "fig, axs = plt.subplots(nrows=nrows, ncols=ncols*2, figsize=(20,22))\n",
    "fig.suptitle(\"Averaged conv and inverse conv filters for all layers\", fontsize=16)\n",
    "idx = 0\n",
    "for i in range(nrows):\n",
    "    for j in range(ncols):\n",
    "        ax = axs[i, 2*j]\n",
    "        predicate = predicate_dict[idx]\n",
    "        im = np.uint8(conv_filters[predicate][layer]*255)\n",
    "        plot = ax.imshow(im, interpolation=interp_method)\n",
    "        ax.set_title(predicate_dict[idx])\n",
    "        ax.axis(\"off\")\n",
    "        ax = axs[i, 2*j+1]\n",
    "        im = np.uint8(inv_conv_filters[predicate][layer]*255)\n",
    "        plot = ax.imshow(im, interpolation=interp_method)\n",
    "        ax.set_title(\"INV {}\".format(predicate_dict[idx]))\n",
    "        ax.axis(\"off\")\n",
    "        idx += 1"
   ]
  },
  {
   "cell_type": "markdown",
   "metadata": {},
   "source": [
    "### Visualize the average weights for all layers."
   ]
  },
  {
   "cell_type": "code",
   "execution_count": null,
   "metadata": {},
   "outputs": [],
   "source": [
    "fig, axs = plt.subplots(nrows=nrows, ncols=ncols*2, figsize=(20,22))\n",
    "fig.suptitle(\"Averaged conv and inverse conv filters for all layers\", fontsize=16)\n",
    "idx = 0\n",
    "for i in range(nrows):\n",
    "    for j in range(ncols):\n",
    "        ax = axs[i, 2*j]\n",
    "        predicate = predicate_dict[idx]\n",
    "        im = np.uint8(conv_filters[predicate].mean(axis=0)*255)\n",
    "        plot = ax.imshow(im, interpolation=interp_method)\n",
    "        ax.set_title(predicate_dict[idx])\n",
    "        ax.axis(\"off\")\n",
    "        ax = axs[i, 2*j+1]\n",
    "        im = np.uint8(inv_conv_filters[predicate].mean(axis=0)*255)\n",
    "        plot = ax.imshow(im, interpolation=interp_method)\n",
    "        ax.set_title(\"INV {}\".format(predicate_dict[idx]))\n",
    "        ax.axis(\"off\")\n",
    "        idx += 1"
   ]
  },
  {
   "cell_type": "markdown",
   "metadata": {},
   "source": [
    "### Let's visualize one of the predicate's conv kernels."
   ]
  },
  {
   "cell_type": "code",
   "execution_count": null,
   "metadata": {},
   "outputs": [],
   "source": []
  }
 ],
 "metadata": {
  "kernelspec": {
   "display_name": "Python 3",
   "language": "python",
   "name": "python3"
  },
  "language_info": {
   "codemirror_mode": {
    "name": "ipython",
    "version": 3
   },
   "file_extension": ".py",
   "mimetype": "text/x-python",
   "name": "python",
   "nbconvert_exporter": "python",
   "pygments_lexer": "ipython3"
  }
 },
 "nbformat": 4,
 "nbformat_minor": 1
}
