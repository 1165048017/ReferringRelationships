{
 "metadata": {
  "kernelspec": {
   "display_name": "Python 3",
   "language": "python",
   "name": "python3"
  },
  "language_info": {
   "codemirror_mode": {
    "name": "ipython",
    "version": 3
   },
   "file_extension": ".py",
   "mimetype": "text/x-python",
   "name": "python",
   "nbconvert_exporter": "python",
   "pygments_lexer": "ipython3",
   "version": "3.4.3"
  },
  "name": ""
 },
 "nbformat": 3,
 "nbformat_minor": 0,
 "worksheets": [
  {
   "cells": [
    {
     "cell_type": "code",
     "collapsed": false,
     "input": [
      "from iterator import SmartIterator\n",
      "from utils.visualization_utils import get_att_map, objdict, get_dict\n",
      "\n",
      "import numpy as np\n",
      "import os\n",
      "from PIL import Image\n",
      "import json\n",
      "import h5py\n",
      "import seaborn as sns\n",
      "import matplotlib.pyplot as plt\n",
      "\n",
      "%matplotlib inline\n",
      "%load_ext autoreload\n",
      "%autoreload 2"
     ],
     "language": "python",
     "metadata": {},
     "outputs": []
    },
    {
     "cell_type": "heading",
     "level": 3,
     "metadata": {},
     "source": [
      "Specify data type here: clevr, vrd of vg"
     ]
    },
    {
     "cell_type": "code",
     "collapsed": false,
     "input": [
      "data_type = \"vrd\""
     ],
     "language": "python",
     "metadata": {},
     "outputs": []
    },
    {
     "cell_type": "code",
     "collapsed": false,
     "input": [
      "if data_type==\"vrd\":\n",
      "    nrows=7\n",
      "    ncols=10\n",
      "    ssn_checkpoint = \"/data/chami/ReferringRelationships/models/VRD/10_19_2017/1/model37-0.51.h5\"\n",
      "    sym_ssn_checkpoint = \"/data/chami/ReferringRelationships/models/VRD/10_19_2017/4/model31-0.49.h5\"\n",
      "    #keep this in case we want to show how the heatmap is transformed \n",
      "    #annotations_test = json.load(open(\"data/VRD/annotations_test.json\"))\n",
      "    #img_dir = '/data/chami/VRD/sg_dataset/sg_test_images/'\n",
      "    vocab_dir = os.path.join('data/VRD')\n",
      "elif data_type==\"clevr\":\n",
      "    nrows=2\n",
      "    ncols=3\n",
      "    ssn_checkpoint = \"/data/chami/ReferringRelationships/models/Clevr/10_19_2017/1/model03-0.06.h5\"\n",
      "    sym_ssn_checkpoint = \"/data/chami/ReferringRelationships/models/Clevr/10_19_2017/2/model23-0.05.h5\"\n",
      "    #annotations_test = json.load(open(\"/data/chami/ReferringRelationships/data/Clevr/annotations_test.json\"))\n",
      "    #img_dir = '/data/chami/ReferringRelationships/data/Clevr/images/val'\n",
      "    vocab_dir = os.path.join('/data/chami/ReferringRelationships/data/Clevr/')\n",
      "predicate_dict, obj_subj_dict = get_dict(vocab_dir)"
     ],
     "language": "python",
     "metadata": {},
     "outputs": []
    },
    {
     "cell_type": "heading",
     "level": 2,
     "metadata": {},
     "source": [
      "PREDICATE ONLY"
     ]
    },
    {
     "cell_type": "code",
     "collapsed": false,
     "input": [
      "model_weights = h5py.File(ssn_checkpoint)\n",
      "params = objdict(json.load(open(os.path.join(os.path.dirname(ssn_checkpoint), \"args.json\"), \"r\")))\n",
      "conv_filters = model_weights[\"conv2d_2\"][\"conv2d_2\"]['kernel:0'][()].reshape(\n",
      "    (params.num_predicates, params.conv_predicate_kernel, params.conv_predicate_kernel))"
     ],
     "language": "python",
     "metadata": {},
     "outputs": []
    },
    {
     "cell_type": "code",
     "collapsed": false,
     "input": [
      "#methods = [None, 'none', 'nearest', 'bilinear', 'bicubic', 'spline16',\n",
      "#           'spline36', 'hanning', 'hamming', 'hermite', 'kaiser', 'quadric',\n",
      "#           'catrom', 'gaussian', 'bessel', 'mitchell', 'sinc', 'lanczos']\n",
      "interp_method = \"spline36\"\n",
      "cmap_0 = sns.cubehelix_palette(light=0.9, as_cmap=True, dark=0.3)\n",
      "cmap_1 = sns.light_palette(\"navy\", as_cmap=True)\n",
      "cmap_2 = sns.cubehelix_palette(8, start=2, rot=0, dark=0.3, light=.95, reverse=True, as_cmap=True)\n",
      "#resample = Image.ANTIALIAS"
     ],
     "language": "python",
     "metadata": {},
     "outputs": []
    },
    {
     "cell_type": "code",
     "collapsed": false,
     "input": [
      "fig, axs = plt.subplots(nrows=nrows, ncols=ncols, figsize=(20,20))\n",
      "idx = 0\n",
      "for i in range(nrows):\n",
      "    for j in range(ncols):\n",
      "        ax = axs[i,j]\n",
      "        im = np.uint8(conv_filters[idx]*255)\n",
      "        plot = ax.imshow(im, interpolation=interp_method, cmap=cmap)\n",
      "        #im = Image.fromarray(np.uint8(conv_filters[idx]*255))\n",
      "        #im = np.array(im.resize((200, 200), resample))\n",
      "        #plot = ax.imshow(im, vmin=0, vmax=255, cmap=cmap)\n",
      "        ax.set_title(predicate_dict[idx])\n",
      "        ax.axis(\"off\")\n",
      "        idx += 1\n",
      "#fig.colorbar(plot, ax=axs.ravel().tolist())"
     ],
     "language": "python",
     "metadata": {},
     "outputs": []
    },
    {
     "cell_type": "heading",
     "level": 2,
     "metadata": {},
     "source": [
      "PREDICATE AND INVERSE PREDICATE"
     ]
    },
    {
     "cell_type": "code",
     "collapsed": false,
     "input": [
      "model_weights = h5py.File(sym_ssn_checkpoint)\n",
      "params = objdict(json.load(open(os.path.join(os.path.dirname(model_checkpoint), \"args.json\"), \"r\")))\n",
      "conv_filters = model_weights[\"conv2d_2\"][\"conv2d_2\"]['kernel:0'][()].reshape(\n",
      "    (params.num_predicates, params.conv_predicate_kernel, params.conv_predicate_kernel))\n",
      "inv_conv_filters = model_weights[\"conv2d_5\"][\"conv2d_5\"]['kernel:0'][()].reshape(\n",
      "    (params.num_predicates, params.conv_predicate_kernel, params.conv_predicate_kernel))"
     ],
     "language": "python",
     "metadata": {},
     "outputs": []
    },
    {
     "cell_type": "code",
     "collapsed": false,
     "input": [
      "fig, axs = plt.subplots(nrows=nrows*2, ncols=ncols, figsize=(20,20))\n",
      "idx = 0\n",
      "for i in range(nrows):\n",
      "    for j in range(ncols):\n",
      "        ax = axs[2*i, j]\n",
      "        im = np.uint8(conv_filters[idx]*255)\n",
      "        plot = ax.imshow(im, interpolation=interp_method, cmap=cmap_1)\n",
      "        ax.set_title(predicate_dict[idx])\n",
      "        ax.axis(\"off\")\n",
      "        ax = axs[2*i+1, j]\n",
      "        im = np.uint8(inv_conv_filters[idx]*255)\n",
      "        plot = ax.imshow(im, interpolation=interp_method, cmap=cmap_0)\n",
      "        ax.set_title(\"NOT {}\".format(predicate_dict[idx]))\n",
      "        ax.axis(\"off\")\n",
      "        idx += 1\n",
      "#fig.colorbar(plot, ax=axs.ravel().tolist())"
     ],
     "language": "python",
     "metadata": {},
     "outputs": []
    },
    {
     "cell_type": "code",
     "collapsed": false,
     "input": [],
     "language": "python",
     "metadata": {},
     "outputs": []
    }
   ],
   "metadata": {}
  }
 ]
}
